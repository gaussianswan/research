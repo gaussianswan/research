{
 "cells": [
  {
   "cell_type": "code",
   "execution_count": 1,
   "metadata": {},
   "outputs": [
    {
     "name": "stderr",
     "output_type": "stream",
     "text": [
      "2023-06-30 17:15:26.224489: I tensorflow/core/util/port.cc:110] oneDNN custom operations are on. You may see slightly different numerical results due to floating-point round-off errors from different computation orders. To turn them off, set the environment variable `TF_ENABLE_ONEDNN_OPTS=0`.\n",
      "2023-06-30 17:15:26.226715: I tensorflow/tsl/cuda/cudart_stub.cc:28] Could not find cuda drivers on your machine, GPU will not be used.\n",
      "2023-06-30 17:15:26.270049: I tensorflow/tsl/cuda/cudart_stub.cc:28] Could not find cuda drivers on your machine, GPU will not be used.\n",
      "2023-06-30 17:15:26.271910: I tensorflow/core/platform/cpu_feature_guard.cc:182] This TensorFlow binary is optimized to use available CPU instructions in performance-critical operations.\n",
      "To enable the following instructions: AVX2 AVX512F AVX512_VNNI FMA, in other operations, rebuild TensorFlow with the appropriate compiler flags.\n",
      "2023-06-30 17:15:26.948660: W tensorflow/compiler/tf2tensorrt/utils/py_utils.cc:38] TF-TRT Warning: Could not find TensorRT\n",
      "/home/stephon/code/research/research_env/lib/python3.10/site-packages/tqdm/auto.py:21: TqdmWarning: IProgress not found. Please update jupyter and ipywidgets. See https://ipywidgets.readthedocs.io/en/stable/user_install.html\n",
      "  from .autonotebook import tqdm as notebook_tqdm\n"
     ]
    },
    {
     "name": "stdout",
     "output_type": "stream",
     "text": [
      "2.12.0\n"
     ]
    }
   ],
   "source": [
    "import pandas as pd\n",
    "import matplotlib\n",
    "from matplotlib import pyplot as plt\n",
    "import seaborn as sns\n",
    "import tempfile\n",
    "import os\n",
    "# Preset Matplotlib figure sizes.\n",
    "matplotlib.rcParams['figure.figsize'] = [9, 6]\n",
    "\n",
    "import tensorflow as tf\n",
    "import tensorflow_datasets as tfds\n",
    "print(tf.__version__)\n",
    "# Set random seed for reproducible results \n",
    "tf.random.set_seed(22)"
   ]
  },
  {
   "cell_type": "code",
   "execution_count": 14,
   "metadata": {},
   "outputs": [],
   "source": [
    "train_data, val_data, test_data = tfds.load(\"mnist\", \n",
    "                                            split=['train[10000:]', 'train[0:10000]', 'test'],\n",
    "                                            batch_size=128, as_supervised=True)"
   ]
  },
  {
   "cell_type": "code",
   "execution_count": 9,
   "metadata": {},
   "outputs": [
    {
     "data": {
      "image/png": "[encoded data removed]",
      "text/plain": [
       "<Figure size 900x600 with 9 Axes>"
      ]
     },
     "metadata": {},
     "output_type": "display_data"
    }
   ],
   "source": [
    "x_viz, y_viz = tfds.load(\"mnist\", split=['train[:1500]'], batch_size=-1, as_supervised=True)[0]\n",
    "x_viz = tf.squeeze(x_viz, axis=3)\n",
    "\n",
    "for i in range(9):\n",
    "    plt.subplot(3,3,1+i)\n",
    "    plt.axis('off')\n",
    "    plt.imshow(x_viz[i], cmap='gray')\n",
    "    plt.title(f\"True Label: {y_viz[i]}\")\n",
    "    plt.subplots_adjust(hspace=.5)"
   ]
  },
  {
   "attachments": {},
   "cell_type": "markdown",
   "metadata": {},
   "source": [
    "The MNIST dataset is a dataset of handwritten digits. The data itself is a 2-d grid of values. "
   ]
  },
  {
   "cell_type": "code",
   "execution_count": 15,
   "metadata": {},
   "outputs": [],
   "source": [
    "def preprocess(x, y): \n",
    "\n",
    "    x = tf.reshape(x, shape = [-1, 784])\n",
    "    x = x / 255\n",
    "    return x, y\n",
    "\n"
   ]
  },
  {
   "cell_type": "code",
   "execution_count": 16,
   "metadata": {},
   "outputs": [],
   "source": [
    "# We are applying this to each element of our data\n",
    "train_data, val_data = train_data.map(preprocess), val_data.map(preprocess)"
   ]
  },
  {
   "cell_type": "code",
   "execution_count": 12,
   "metadata": {},
   "outputs": [
    {
     "data": {
      "text/plain": [
       "<_MapDataset element_spec=(TensorSpec(shape=(None, 784), dtype=tf.float32, name=None), TensorSpec(shape=(None,), dtype=tf.int64, name=None))>"
      ]
     },
     "execution_count": 12,
     "metadata": {},
     "output_type": "execute_result"
    }
   ],
   "source": [
    "train_data"
   ]
  },
  {
   "cell_type": "code",
   "execution_count": 19,
   "metadata": {},
   "outputs": [],
   "source": [
    "def xavier_init(shape): \n",
    "\n",
    "    in_dim, out_dim = shape\n",
    "    xavier_lim = tf.sqrt(6.)/tf.sqrt(tf.cast(in_dim + out_dim, tf.float32))\n",
    "    weight_vals = tf.random.uniform(shape = (in_dim, out_dim), minval = -xavier_lim, maxval = xavier_lim, seed = 22)\n",
    "\n",
    "    return weight_vals"
   ]
  },
  {
   "cell_type": "code",
   "execution_count": 20,
   "metadata": {},
   "outputs": [
    {
     "data": {
      "text/plain": [
       "<tf.Tensor: shape=(3, 4), dtype=float32, numpy=\n",
       "array([[-0.7683675 ,  0.18148452,  0.8120956 , -0.34962475],\n",
       "       [ 0.1041134 ,  0.7772344 , -0.68309605, -0.7322771 ],\n",
       "       [-0.16226923,  0.27974933, -0.46499822,  0.5776419 ]],\n",
       "      dtype=float32)>"
      ]
     },
     "execution_count": 20,
     "metadata": {},
     "output_type": "execute_result"
    }
   ],
   "source": [
    "xavier_init((3, 4))"
   ]
  },
  {
   "attachments": {},
   "cell_type": "markdown",
   "metadata": {},
   "source": [
    "We are going to make a Dense layer class to illustrate the concepts"
   ]
  },
  {
   "cell_type": "code",
   "execution_count": 21,
   "metadata": {},
   "outputs": [],
   "source": [
    "class DenseLayer(tf.Module): \n",
    "\n",
    "    def __init__(self, out_dim, weight_init = xavier_init, activation = tf.identity): \n",
    "\n",
    "        self.out_dim = out_dim \n",
    "        self.weight_init = weight_init \n",
    "        self.activation = activation \n",
    "        self.built = False \n",
    "\n",
    "    def __call__(self, x): \n",
    "        if not self.built: \n",
    "\n",
    "            # Inferring the dimension from the first call \n",
    "            self.in_dim = x.shape[1]\n",
    "\n",
    "            self.w = tf.Variable(xavier_init(shape = (self.in_dim, self.out_dim)))\n",
    "            self.b = tf.Variable(tf.zeros(shape = (self.out_dim, )))\n",
    "            self.built = True\n",
    "\n",
    "        # We do our final summation here and send out the activation\n",
    "        z = tf.add(tf.matmul(x, self.w), self.b)\n",
    "        return self.activation(z)  \n",
    "    \n"
   ]
  },
  {
   "cell_type": "code",
   "execution_count": 22,
   "metadata": {},
   "outputs": [],
   "source": [
    "class MLP(tf.Module): \n",
    "\n",
    "    def __init__(self, layers): \n",
    "        self.layers = layers \n",
    "\n",
    "    @tf.function \n",
    "    def __call__(self, x, preds = False): \n",
    "\n",
    "        for layer in self.layers: \n",
    "            x = layer(x)\n",
    "\n",
    "        return x\n",
    "    \n"
   ]
  },
  {
   "attachments": {},
   "cell_type": "markdown",
   "metadata": {},
   "source": [
    "We are going to create a model which has this architecture\n",
    "* Relu(784, 700)\n",
    "* Relu(700, 500)\n",
    "* Softmax(500, 10)\n",
    "\n"
   ]
  },
  {
   "cell_type": "code",
   "execution_count": 23,
   "metadata": {},
   "outputs": [],
   "source": [
    "hidden_layer_1_size = 700 \n",
    "hidden_layer_2_size = 500 \n",
    "output_size = 10\n",
    "\n",
    "mlp_model = MLP([\n",
    "    DenseLayer(out_dim=hidden_layer_1_size, activation=tf.nn.relu),\n",
    "    DenseLayer(out_dim=hidden_layer_2_size, activation=tf.nn.relu),\n",
    "    DenseLayer(out_dim=output_size)])"
   ]
  },
  {
   "cell_type": "code",
   "execution_count": 24,
   "metadata": {},
   "outputs": [],
   "source": [
    "def cross_entropy_loss(y_pred, y):\n",
    "  # Compute cross entropy loss with a sparse operation\n",
    "  sparse_ce = tf.nn.sparse_softmax_cross_entropy_with_logits(labels=y, logits=y_pred)\n",
    "  return tf.reduce_mean(sparse_ce)\n",
    "\n",
    "def accuracy(y_pred, y):\n",
    "  # Compute accuracy after extracting class predictions\n",
    "  class_preds = tf.argmax(tf.nn.softmax(y_pred), axis=1)\n",
    "  is_equal = tf.equal(y, class_preds)\n",
    "  return tf.reduce_mean(tf.cast(is_equal, tf.float32))"
   ]
  },
  {
   "cell_type": "code",
   "execution_count": 25,
   "metadata": {},
   "outputs": [],
   "source": [
    "class Adam: \n",
    "\n",
    "    def __init__(self, learning_rate=1e-3, beta_1=0.9, beta_2=0.999, ep=1e-7): \n",
    "        self.beta_1 = beta_1\n",
    "        self.beta_2 = beta_2\n",
    "        self.learning_rate = learning_rate\n",
    "        self.ep = ep\n",
    "\n",
    "        self.t = 1. \n",
    "        self.v_dvar, self.s_dvar = [], [] \n",
    "        self.built = False \n",
    "\n",
    "    def apply_gradients(self, grads, vars): \n",
    "        # Initializing these variables on the first call\n",
    "        if not self.built: \n",
    "            for var in vars: \n",
    "                v = tf.Variable(tf.zeros(shape = var.shape))\n",
    "                s = tf.Variable(tf.zeros(shape = var.shape))\n",
    "                self.v_dvar.append(v)\n",
    "                self.s_dvar.append(s)\n",
    "            self.built = True\n",
    "\n",
    "        # Update the model variables given the gradients\n",
    "        for i, (d_var, var) in enumerate(zip(grads, vars)):\n",
    "            self.v_dvar[i].assign(self.beta_1*self.v_dvar[i] + (1-self.beta_1)*d_var)\n",
    "            self.s_dvar[i].assign(self.beta_2*self.s_dvar[i] + (1-self.beta_2)*tf.square(d_var))\n",
    "            v_dvar_bc = self.v_dvar[i]/(1-(self.beta_1**self.t))\n",
    "            s_dvar_bc = self.s_dvar[i]/(1-(self.beta_2**self.t))\n",
    "            var.assign_sub(self.learning_rate*(v_dvar_bc/(tf.sqrt(s_dvar_bc) + self.ep)))\n",
    "\n",
    "        self.t += 1.\n",
    "        return\n",
    "                "
   ]
  },
  {
   "cell_type": "code",
   "execution_count": 26,
   "metadata": {},
   "outputs": [],
   "source": [
    "def train_step(x_batch, y_batch, loss, acc, model, optimizer):\n",
    "  # Update the model state given a batch of data\n",
    "  with tf.GradientTape() as tape:\n",
    "    y_pred = model(x_batch)\n",
    "    batch_loss = loss(y_pred, y_batch)\n",
    "  batch_acc = acc(y_pred, y_batch)\n",
    "  grads = tape.gradient(batch_loss, model.variables)\n",
    "  optimizer.apply_gradients(grads, model.variables)\n",
    "  return batch_loss, batch_acc\n",
    "\n",
    "def val_step(x_batch, y_batch, loss, acc, model):\n",
    "  # Evaluate the model on given a batch of validation data\n",
    "  y_pred = model(x_batch)\n",
    "  batch_loss = loss(y_pred, y_batch)\n",
    "  batch_acc = acc(y_pred, y_batch)s\n",
    "  return batch_loss, batch_acc"
   ]
  },
  {
   "cell_type": "code",
   "execution_count": 27,
   "metadata": {},
   "outputs": [],
   "source": [
    "def train_model(mlp, train_data, val_data, loss, acc, optimizer, epochs):\n",
    "  # Initialize data structures\n",
    "  train_losses, train_accs = [], []\n",
    "  val_losses, val_accs = [], []\n",
    "\n",
    "  # Format training loop and begin training\n",
    "  for epoch in range(epochs):\n",
    "    batch_losses_train, batch_accs_train = [], []\n",
    "    batch_losses_val, batch_accs_val = [], []\n",
    "\n",
    "    # Iterate over the training data\n",
    "    for x_batch, y_batch in train_data:\n",
    "      # Compute gradients and update the model's parameters\n",
    "      batch_loss, batch_acc = train_step(x_batch, y_batch, loss, acc, mlp, optimizer)\n",
    "      # Keep track of batch-level training performance\n",
    "      batch_losses_train.append(batch_loss)\n",
    "      batch_accs_train.append(batch_acc)\n",
    "\n",
    "    # Iterate over the validation data\n",
    "    for x_batch, y_batch in val_data:\n",
    "      batch_loss, batch_acc = val_step(x_batch, y_batch, loss, acc, mlp)\n",
    "      batch_losses_val.append(batch_loss)\n",
    "      batch_accs_val.append(batch_acc)\n",
    "\n",
    "    # Keep track of epoch-level model performance\n",
    "    train_loss, train_acc = tf.reduce_mean(batch_losses_train), tf.reduce_mean(batch_accs_train)\n",
    "    val_loss, val_acc = tf.reduce_mean(batch_losses_val), tf.reduce_mean(batch_accs_val)\n",
    "    train_losses.append(train_loss)\n",
    "    train_accs.append(train_acc)\n",
    "    val_losses.append(val_loss)\n",
    "    val_accs.append(val_acc)\n",
    "    print(f\"Epoch: {epoch}\")\n",
    "    print(f\"Training loss: {train_loss:.3f}, Training accuracy: {train_acc:.3f}\")\n",
    "    print(f\"Validation loss: {val_loss:.3f}, Validation accuracy: {val_acc:.3f}\")\n",
    "  return train_losses, train_accs, val_losses, val_accs"
   ]
  },
  {
   "cell_type": "code",
   "execution_count": 28,
   "metadata": {},
   "outputs": [
    {
     "name": "stderr",
     "output_type": "stream",
     "text": [
      "2023-06-30 17:35:09.684823: I tensorflow/core/common_runtime/executor.cc:1197] [/device:CPU:0] (DEBUG INFO) Executor start aborting (this does not indicate an error and you can ignore this message): INVALID_ARGUMENT: You must feed a value for placeholder tensor 'Placeholder/_4' with dtype int64 and shape [1]\n",
      "\t [[{{node Placeholder/_4}}]]\n",
      "2023-06-30 17:35:09.685535: I tensorflow/core/common_runtime/executor.cc:1197] [/device:CPU:0] (DEBUG INFO) Executor start aborting (this does not indicate an error and you can ignore this message): INVALID_ARGUMENT: You must feed a value for placeholder tensor 'Placeholder/_2' with dtype string and shape [1]\n",
      "\t [[{{node Placeholder/_2}}]]\n",
      "2023-06-30 17:35:19.619654: I tensorflow/core/common_runtime/executor.cc:1197] [/device:CPU:0] (DEBUG INFO) Executor start aborting (this does not indicate an error and you can ignore this message): INVALID_ARGUMENT: You must feed a value for placeholder tensor 'Placeholder/_4' with dtype int64 and shape [1]\n",
      "\t [[{{node Placeholder/_4}}]]\n",
      "2023-06-30 17:35:19.620088: I tensorflow/core/common_runtime/executor.cc:1197] [/device:CPU:0] (DEBUG INFO) Executor start aborting (this does not indicate an error and you can ignore this message): INVALID_ARGUMENT: You must feed a value for placeholder tensor 'Placeholder/_0' with dtype string and shape [1]\n",
      "\t [[{{node Placeholder/_0}}]]\n"
     ]
    },
    {
     "name": "stdout",
     "output_type": "stream",
     "text": [
      "Epoch: 0\n",
      "Training loss: 0.223, Training accuracy: 0.934\n",
      "Validation loss: 0.120, Validation accuracy: 0.963\n",
      "Epoch: 1\n",
      "Training loss: 0.080, Training accuracy: 0.975\n",
      "Validation loss: 0.098, Validation accuracy: 0.971\n",
      "Epoch: 2\n",
      "Training loss: 0.047, Training accuracy: 0.986\n",
      "Validation loss: 0.090, Validation accuracy: 0.975\n",
      "Epoch: 3\n",
      "Training loss: 0.035, Training accuracy: 0.989\n",
      "Validation loss: 0.115, Validation accuracy: 0.971\n",
      "Epoch: 4\n",
      "Training loss: 0.025, Training accuracy: 0.992\n",
      "Validation loss: 0.093, Validation accuracy: 0.977\n",
      "Epoch: 5\n",
      "Training loss: 0.022, Training accuracy: 0.993\n",
      "Validation loss: 0.103, Validation accuracy: 0.974\n",
      "Epoch: 6\n",
      "Training loss: 0.019, Training accuracy: 0.993\n",
      "Validation loss: 0.100, Validation accuracy: 0.977\n",
      "Epoch: 7\n",
      "Training loss: 0.017, Training accuracy: 0.995\n",
      "Validation loss: 0.109, Validation accuracy: 0.976\n",
      "Epoch: 8\n",
      "Training loss: 0.015, Training accuracy: 0.995\n",
      "Validation loss: 0.091, Validation accuracy: 0.981\n",
      "Epoch: 9\n",
      "Training loss: 0.013, Training accuracy: 0.995\n",
      "Validation loss: 0.091, Validation accuracy: 0.982\n"
     ]
    }
   ],
   "source": [
    "train_losses, train_accs, val_losses, val_accs = train_model(mlp_model, train_data, val_data, \n",
    "                                                             loss=cross_entropy_loss, acc=accuracy,\n",
    "                                                             optimizer=Adam(), epochs=10)"
   ]
  }
 ],
 "metadata": {
  "kernelspec": {
   "display_name": "research_env",
   "language": "python",
   "name": "python3"
  },
  "language_info": {
   "codemirror_mode": {
    "name": "ipython",
    "version": 3
   },
   "file_extension": ".py",
   "mimetype": "text/x-python",
   "name": "python",
   "nbconvert_exporter": "python",
   "pygments_lexer": "ipython3",
   "version": "3.10.6"
  },
  "orig_nbformat": 4
 },
 "nbformat": 4,
 "nbformat_minor": 2
}
