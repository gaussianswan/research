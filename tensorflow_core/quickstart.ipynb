{
 "cells": [
  {
   "cell_type": "code",
   "execution_count": 32,
   "metadata": {},
   "outputs": [
    {
     "name": "stdout",
     "output_type": "stream",
     "text": [
      "Tensorflow version: 2.12.0\n"
     ]
    }
   ],
   "source": [
    "import tensorflow as tf \n",
    "import pandas as pd \n",
    "import matplotlib.pyplot as plt\n",
    "import matplotlib\n",
    "\n",
    "print(\"Tensorflow version:\", tf.__version__)\n",
    "tf.random.set_seed(22)"
   ]
  },
  {
   "cell_type": "code",
   "execution_count": 2,
   "metadata": {},
   "outputs": [],
   "source": [
    "url = 'http://archive.ics.uci.edu/ml/machine-learning-databases/auto-mpg/auto-mpg.data'\n",
    "column_names = ['MPG', 'Cylinders', 'Displacement', 'Horsepower', 'Weight', 'Acceleration', 'Model Year', \"Origin\"]\n",
    "\n",
    "# loading the dataset\n",
    "dataset = pd.read_csv(url, names = column_names, na_values=\"?\", comment = '\\t', sep = ' ', skipinitialspace=True)\n",
    "dataset.dropna(inplace=True)\n",
    "\n",
    "# We can convert this into a tensor\n",
    "dataset_tf = tf.convert_to_tensor(dataset, dtype = tf.float32)"
   ]
  },
  {
   "cell_type": "code",
   "execution_count": 9,
   "metadata": {},
   "outputs": [],
   "source": [
    "# Splitting into training and testing sets\n",
    "dataset_shuffled = tf.random.shuffle(dataset_tf, seed = 22)\n",
    "train_data, test_data = dataset_shuffled[100:], dataset_shuffled[:100]\n",
    "x_train, y_train = train_data[:, 1:], train_data[:, 0]\n",
    "x_test, y_test = test_data[:, 1:], test_data[:, 0]"
   ]
  },
  {
   "cell_type": "code",
   "execution_count": 13,
   "metadata": {},
   "outputs": [],
   "source": [
    "def one_hot_origin(x): \n",
    "\n",
    "    origin = tf.cast(x[:, -1], tf.int32)\n",
    "\n",
    "    origin_oh = tf.one_hot(origin - 1, 3)\n",
    "    x_ohe = tf.concat([x[:, :-1], origin_oh], axis = 1)\n",
    "    return x_ohe"
   ]
  },
  {
   "cell_type": "code",
   "execution_count": 21,
   "metadata": {},
   "outputs": [],
   "source": [
    "x_train_ohe, x_test_ohe = one_hot_origin(x_train), one_hot_origin(x_test)"
   ]
  },
  {
   "cell_type": "code",
   "execution_count": 22,
   "metadata": {},
   "outputs": [],
   "source": [
    "class Normalize(tf.Module): \n",
    "\n",
    "    def __init__(self, x): \n",
    "        self.mean = tf.math.reduce_mean(x, axis = 0)\n",
    "        self.std = tf.math.reduce_std(x, axis = 0)\n",
    "\n",
    "    def norm(self, x): \n",
    "        return (x - self.mean)/self.std\n",
    "\n",
    "    def unnorm(self, x): \n",
    "        return (x * self.std) + self.mean\n",
    "    \n",
    "    "
   ]
  },
  {
   "cell_type": "code",
   "execution_count": 23,
   "metadata": {},
   "outputs": [],
   "source": [
    "norm_x = Normalize(x_train_ohe)\n",
    "norm_y = Normalize(y_train)\n",
    "\n",
    "x_train_norm, y_train_norm = norm_x.norm(x_train_ohe), norm_y.norm(y_train)\n",
    "x_test_norm, y_test_norm = norm_x.norm(x_test_ohe), norm_y.norm(y_test)"
   ]
  },
  {
   "attachments": {},
   "cell_type": "markdown",
   "metadata": {},
   "source": [
    "We are going to make a linear regression class using the native tensorflow objects"
   ]
  },
  {
   "cell_type": "code",
   "execution_count": 26,
   "metadata": {},
   "outputs": [],
   "source": [
    "class LinearRegression(tf.Module): \n",
    "\n",
    "    def __init__(self):\n",
    "        self.built = False\n",
    "\n",
    "    @tf.function \n",
    "    def __call__(self, x): \n",
    "\n",
    "        if not self.built: \n",
    "            rand_w = tf.random.uniform(shape = [x.shape[-1], 1])\n",
    "            rand_b = tf.random.uniform(shape = [])\n",
    "            self.w = tf.Variable(rand_w)\n",
    "            self.b = tf.Variable(rand_b)\n",
    "            self.built = True\n",
    "\n",
    "        # We are adding these tensors together\n",
    "        y = tf.add(tf.matmul(x, self.w), self.b)\n",
    "        return tf.squeeze(y, axis = 1)"
   ]
  },
  {
   "cell_type": "code",
   "execution_count": null,
   "metadata": {},
   "outputs": [],
   "source": [
    "lin_reg = LinearRegression() \n",
    "prediction = lin_reg(x_train_norm[:1])\n",
    "prediction_unnorm = norm_y.unnorm(prediction)"
   ]
  },
  {
   "cell_type": "code",
   "execution_count": 29,
   "metadata": {},
   "outputs": [],
   "source": [
    "def mse_loss(y_pred, y): \n",
    "    return tf.reduce_mean(tf.square(y_pred - y))"
   ]
  },
  {
   "cell_type": "code",
   "execution_count": 30,
   "metadata": {},
   "outputs": [
    {
     "name": "stderr",
     "output_type": "stream",
     "text": [
      "2023-06-30 16:12:20.937478: I tensorflow/core/common_runtime/executor.cc:1197] [/device:CPU:0] (DEBUG INFO) Executor start aborting (this does not indicate an error and you can ignore this message): INVALID_ARGUMENT: You must feed a value for placeholder tensor 'Placeholder/_0' with dtype float and shape [292,9]\n",
      "\t [[{{node Placeholder/_0}}]]\n",
      "2023-06-30 16:12:21.067098: I tensorflow/core/common_runtime/executor.cc:1197] [/device:CPU:0] (DEBUG INFO) Executor start aborting (this does not indicate an error and you can ignore this message): INVALID_ARGUMENT: You must feed a value for placeholder tensor 'Placeholder/_1' with dtype float and shape [100]\n",
      "\t [[{{node Placeholder/_1}}]]\n"
     ]
    },
    {
     "name": "stdout",
     "output_type": "stream",
     "text": [
      "Mean squared error for step 0: 2.939\n",
      "Mean squared error for step 10: 0.490\n",
      "Mean squared error for step 20: 0.297\n",
      "Mean squared error for step 30: 0.236\n",
      "Mean squared error for step 40: 0.208\n",
      "Mean squared error for step 50: 0.199\n",
      "Mean squared error for step 60: 0.191\n",
      "Mean squared error for step 70: 0.187\n",
      "Mean squared error for step 80: 0.179\n",
      "Mean squared error for step 90: 0.176\n",
      "\n",
      "Final train loss: 0.180\n",
      "Final test loss: 0.221\n"
     ]
    }
   ],
   "source": [
    "# Going to batch our dataset into batches of 64 here\n",
    "batch_size = 64\n",
    "train_dataset = tf.data.Dataset.from_tensor_slices((x_train_norm, y_train_norm))\n",
    "train_dataset = train_dataset.shuffle(buffer_size=x_train.shape[0]).batch(batch_size)\n",
    "test_dataset = tf.data.Dataset.from_tensor_slices((x_test_norm, y_test_norm))\n",
    "test_dataset = test_dataset.shuffle(buffer_size=x_test.shape[0]).batch(batch_size)\n",
    "\n",
    "# Set training parameters \n",
    "epochs = 100 \n",
    "learning_rate = 0.01 \n",
    "train_losses = []\n",
    "test_losses = [] \n",
    "\n",
    "for epoch in range(epochs): \n",
    "    batch_losses_train = []\n",
    "    batch_losses_test = [] \n",
    "\n",
    "    for x_batch, y_batch in train_dataset: \n",
    "        with tf.GradientTape() as tape: \n",
    "            y_pred_batch = lin_reg(x_batch)\n",
    "            batch_loss = mse_loss(y_pred_batch, y_batch)\n",
    "\n",
    "        grads = tape.gradient(batch_loss, lin_reg.variables)\n",
    "\n",
    "        # Doing gradient descent here\n",
    "        for g, v in zip(grads, lin_reg.variables): \n",
    "            v.assign_sub(learning_rate * g)\n",
    "\n",
    "        batch_losses_train.append(batch_loss)\n",
    "\n",
    "    # Iterate through the testing data\n",
    "    for x_batch, y_batch in test_dataset:\n",
    "        y_pred_batch = lin_reg(x_batch)\n",
    "        batch_loss = mse_loss(y_pred_batch, y_batch)\n",
    "        # Keep track of batch-level testing performance \n",
    "        batch_losses_test.append(batch_loss)\n",
    "\n",
    "     # Keep track of epoch-level model performance\n",
    "    train_loss = tf.reduce_mean(batch_losses_train)\n",
    "    test_loss = tf.reduce_mean(batch_losses_test)\n",
    "\n",
    "    train_losses.append(train_loss)\n",
    "    test_losses.append(test_loss)\n",
    "\n",
    "    if epoch % 10 == 0: \n",
    "        print(f'Mean squared error for step {epoch}: {train_loss.numpy():0.3f}')\n",
    "\n",
    "# Output final losses\n",
    "print(f\"\\nFinal train loss: {train_loss:0.3f}\")\n",
    "print(f\"Final test loss: {test_loss:0.3f}\")       \n",
    "\n",
    "    "
   ]
  },
  {
   "cell_type": "code",
   "execution_count": 33,
   "metadata": {},
   "outputs": [
    {
     "data": {
      "image/png": "[encoded data removed]",
      "text/plain": [
       "<Figure size 900x600 with 1 Axes>"
      ]
     },
     "metadata": {},
     "output_type": "display_data"
    }
   ],
   "source": [
    "matplotlib.rcParams['figure.figsize'] = [9, 6]\n",
    "\n",
    "plt.plot(range(epochs), train_losses, label = \"Training loss\")\n",
    "plt.plot(range(epochs), test_losses, label = \"Testing loss\")\n",
    "plt.xlabel(\"Epoch\")\n",
    "plt.ylabel(\"Mean squared error loss\")\n",
    "plt.legend()\n",
    "plt.title(\"MSE loss vs training iterations\");"
   ]
  },
  {
   "cell_type": "code",
   "execution_count": 35,
   "metadata": {},
   "outputs": [],
   "source": [
    "class ExportModule(tf.Module):\n",
    "  def __init__(self, model, extract_features, norm_x, norm_y):\n",
    "    # Initialize pre and postprocessing functions\n",
    "    self.model = model\n",
    "    self.extract_features = extract_features\n",
    "    self.norm_x = norm_x\n",
    "    self.norm_y = norm_y\n",
    "\n",
    "  @tf.function(input_signature=[tf.TensorSpec(shape=[None, None], dtype=tf.float32)]) \n",
    "  def __call__(self, x):\n",
    "    # Run the ExportModule for new data points\n",
    "    x = self.extract_features(x)\n",
    "    x = self.norm_x.norm(x)\n",
    "    y = self.model(x)\n",
    "    y = self.norm_y.unnorm(y)\n",
    "    return y\n",
    "  \n",
    "lin_reg_export = ExportModule(model=lin_reg,\n",
    "                              extract_features=one_hot_origin,\n",
    "                              norm_x=norm_x,\n",
    "                              norm_y=norm_y)"
   ]
  },
  {
   "cell_type": "code",
   "execution_count": 36,
   "metadata": {},
   "outputs": [
    {
     "name": "stdout",
     "output_type": "stream",
     "text": [
      "INFO:tensorflow:Assets written to: /tmp/tmpuw8dcnk3/lin_reg_export/assets\n"
     ]
    }
   ],
   "source": [
    "import tempfile\n",
    "import os\n",
    "\n",
    "models = tempfile.mkdtemp()\n",
    "save_path = os.path.join(models, 'lin_reg_export')\n",
    "tf.saved_model.save(lin_reg_export, save_path)"
   ]
  },
  {
   "cell_type": "code",
   "execution_count": 37,
   "metadata": {},
   "outputs": [
    {
     "data": {
      "text/plain": [
       "array([26.575157, 22.20506 , 22.075827, 23.543005, 14.781026, 27.390034,\n",
       "       29.829918, 20.630136, 19.815458, 35.224762], dtype=float32)"
      ]
     },
     "execution_count": 37,
     "metadata": {},
     "output_type": "execute_result"
    }
   ],
   "source": [
    "lin_reg_loaded = tf.saved_model.load(save_path)\n",
    "test_preds = lin_reg_loaded(x_test)\n",
    "test_preds[:10].numpy()"
   ]
  },
  {
   "attachments": {},
   "cell_type": "markdown",
   "metadata": {},
   "source": [
    "#### Conclusion\n",
    "\n",
    "We have gone through implementing simple linear regression using the tensorflow lower level API of tensors, gradient tape, etc. We are going to keep going and see how to do logistic regression as well. \n",
    "\n",
    "Some follow up questions: \n",
    "* How does GradientTape work at a lower level? How does it know how to compute the gradient? \n",
    "* Can we use other loss functions here? "
   ]
  },
  {
   "cell_type": "code",
   "execution_count": 38,
   "metadata": {},
   "outputs": [],
   "source": [
    "x = tf.Variable(3.0)\n",
    "\n",
    "with tf.GradientTape() as tape: \n",
    "    y = x ** 2"
   ]
  },
  {
   "cell_type": "code",
   "execution_count": 40,
   "metadata": {},
   "outputs": [],
   "source": [
    "dy_dx = tape.gradient(y, x)"
   ]
  },
  {
   "cell_type": "code",
   "execution_count": 43,
   "metadata": {},
   "outputs": [
    {
     "data": {
      "text/plain": [
       "6.0"
      ]
     },
     "execution_count": 43,
     "metadata": {},
     "output_type": "execute_result"
    }
   ],
   "source": [
    "dy_dx.numpy()"
   ]
  },
  {
   "attachments": {},
   "cell_type": "markdown",
   "metadata": {},
   "source": [
    "It's interesting. How we can think about the Gradient Tape is that it's understanding the loss function as a set of steps and is utilizing the chain rule to compute the total gradient. There is a description of what's going on [here](https://www.tensorflow.org/guide/autodiff#:~:text=Gradient%20tapes,-TensorFlow%20provides%20the&text=TensorFlow%20%22records%22%20relevant%20operations%20executed,computation%20using%20reverse%20mode%20differentiation.)"
   ]
  },
  {
   "attachments": {},
   "cell_type": "markdown",
   "metadata": {},
   "source": []
  }
 ],
 "metadata": {
  "kernelspec": {
   "display_name": "research_env",
   "language": "python",
   "name": "python3"
  },
  "language_info": {
   "codemirror_mode": {
    "name": "ipython",
    "version": 3
   },
   "file_extension": ".py",
   "mimetype": "text/x-python",
   "name": "python",
   "nbconvert_exporter": "python",
   "pygments_lexer": "ipython3",
   "version": "3.10.6"
  },
  "orig_nbformat": 4
 },
 "nbformat": 4,
 "nbformat_minor": 2
}
