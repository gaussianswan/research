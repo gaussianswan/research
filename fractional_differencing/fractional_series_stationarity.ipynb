{
 "cells": [
  {
   "attachments": {},
   "cell_type": "markdown",
   "metadata": {},
   "source": [
    "#### Stationarity of Fractionally Differenced Series\n",
    "\n",
    "We will demonstrate a concept that if you vary the level of $d$ in your fractional differencing you will get varying levels of \"stationarity\". "
   ]
  },
  {
   "cell_type": "code",
   "execution_count": 4,
   "metadata": {},
   "outputs": [],
   "source": [
    "import pandas as pd \n",
    "import yfinance as yf \n",
    "import numpy as np \n",
    "import matplotlib.pyplot as plt\n",
    "import seaborn as sns\n",
    "\n",
    "from fractional import FFDTransform, get_frac_weights\n",
    "\n",
    "# Using the augmented dickey fuller test to test for stationarity\n",
    "from statsmodels.tsa.stattools import adfuller"
   ]
  },
  {
   "cell_type": "code",
   "execution_count": 2,
   "metadata": {},
   "outputs": [],
   "source": [
    "data = yf.download(\"BTC-USD\", progress=False)\n",
    "close_price = data['Adj Close']\n",
    "log_price = close_price.apply(np.log)"
   ]
  },
  {
   "cell_type": "code",
   "execution_count": 24,
   "metadata": {},
   "outputs": [],
   "source": [
    "ffd_transform = FFDTransform(d = 0.3, tol = 0.0001)\n",
    "ffd_transform.fit(series = log_price)\n",
    "ffd_series = ffd_transform.transform(series = log_price)"
   ]
  },
  {
   "cell_type": "code",
   "execution_count": 25,
   "metadata": {},
   "outputs": [],
   "source": [
    "adfuller_test_results = adfuller(ffd_series.dropna())"
   ]
  },
  {
   "cell_type": "code",
   "execution_count": 30,
   "metadata": {},
   "outputs": [
    {
     "name": "stdout",
     "output_type": "stream",
     "text": [
      "0.04494690749324852\n"
     ]
    }
   ],
   "source": [
    "test_stat = adfuller_test_results[0]\n",
    "test_pvalue = adfuller_test_results[1]\n",
    "print(test_pvalue)"
   ]
  },
  {
   "attachments": {},
   "cell_type": "markdown",
   "metadata": {},
   "source": [
    "We see here that the p-value is below the usual threshold of 5% in order to say that this is a significant test. The null hypothesis of this test is that there is a unit root present which would imply that the series is not stationary. If we have a p-value below 5%, then we would reject the null hypothesis that there is a unit root which wold imply that this series is stationary. \n"
   ]
  },
  {
   "cell_type": "code",
   "execution_count": 41,
   "metadata": {},
   "outputs": [],
   "source": [
    "p_values = {} \n",
    "\n",
    "d_values = np.arange(start = 0.1, stop = 0.95, step=0.05)"
   ]
  },
  {
   "cell_type": "code",
   "execution_count": 44,
   "metadata": {},
   "outputs": [
    {
     "name": "stdout",
     "output_type": "stream",
     "text": [
      "The p-value for d=0.1 is 0.248\n",
      "The p-value for d=0.15000000000000002 is 0.222\n",
      "The p-value for d=0.20000000000000004 is 0.172\n",
      "The p-value for d=0.25000000000000006 is 0.174\n",
      "The p-value for d=0.30000000000000004 is 0.045\n",
      "The p-value for d=0.3500000000000001 is 0.011\n",
      "The p-value for d=0.40000000000000013 is 0.005\n",
      "The p-value for d=0.45000000000000007 is 0.012\n",
      "The p-value for d=0.5000000000000001 is 0.004\n",
      "The p-value for d=0.5500000000000002 is 0.001\n",
      "The p-value for d=0.6000000000000002 is 0.000\n",
      "The p-value for d=0.6500000000000001 is 0.000\n",
      "The p-value for d=0.7000000000000002 is 0.000\n",
      "The p-value for d=0.7500000000000002 is 0.000\n",
      "The p-value for d=0.8000000000000002 is 0.000\n",
      "The p-value for d=0.8500000000000002 is 0.000\n",
      "The p-value for d=0.9000000000000002 is 0.000\n"
     ]
    }
   ],
   "source": [
    "for d in d_values: \n",
    "    ffd = FFDTransform(d = d, tol = 0.0001)\n",
    "    series = ffd.fit_transform(series = log_price).dropna()\n",
    "    p_value = adfuller(series)[1]\n",
    "    p_values[d] = p_value\n",
    "\n",
    "    print(f'The p-value for d={d} is {p_value:.3f}')"
   ]
  },
  {
   "cell_type": "code",
   "execution_count": 47,
   "metadata": {},
   "outputs": [],
   "source": [
    "p_values_series = pd.Series(p_values)"
   ]
  },
  {
   "cell_type": "code",
   "execution_count": 51,
   "metadata": {},
   "outputs": [
    {
     "data": {
      "image/png": "[encoded data removed]",
      "text/plain": [
       "<Figure size 640x480 with 1 Axes>"
      ]
     },
     "metadata": {},
     "output_type": "display_data"
    }
   ],
   "source": [
    "p_values_series.plot()\n",
    "plt.title(\"p-value of ADF test with d\")\n",
    "plt.xlabel(\"d\")\n",
    "plt.ylabel(\"p-value\")\n",
    "plt.hlines(y = 0.05, xmin = d_values.min(), xmax = d_values.max(), color = 'black', linestyles='dotted')\n",
    "plt.show()"
   ]
  },
  {
   "cell_type": "code",
   "execution_count": 63,
   "metadata": {},
   "outputs": [
    {
     "data": {
      "text/plain": [
       "0.3"
      ]
     },
     "execution_count": 63,
     "metadata": {},
     "output_type": "execute_result"
    }
   ],
   "source": [
    "d = round(p_values_series.index[np.where(p_values_series.values <= 0.05)[0].min()], 3)\n",
    "d"
   ]
  },
  {
   "attachments": {},
   "cell_type": "markdown",
   "metadata": {},
   "source": [
    "We can see that a d-value of 0.3 gives us a series that we can consider to be stationary. If we keep differencing, we are still stationary but we are losing more and more memory from our time series. "
   ]
  },
  {
   "cell_type": "code",
   "execution_count": null,
   "metadata": {},
   "outputs": [],
   "source": [
    "def get_optimal_d_value(series: pd.Series, tol: float = 0.0001, p_value: float = 0.05) -> float: \n",
    "\n",
    "    assert p_value > 0, \"p-value has to be greater than 0\"\n",
    "    assert tol > 0, \"tolerance has to be greater than 0\"\n",
    "\n",
    "    "
   ]
  }
 ],
 "metadata": {
  "kernelspec": {
   "display_name": "research_env",
   "language": "python",
   "name": "python3"
  },
  "language_info": {
   "codemirror_mode": {
    "name": "ipython",
    "version": 3
   },
   "file_extension": ".py",
   "mimetype": "text/x-python",
   "name": "python",
   "nbconvert_exporter": "python",
   "pygments_lexer": "ipython3",
   "version": "3.10.6"
  },
  "orig_nbformat": 4
 },
 "nbformat": 4,
 "nbformat_minor": 2
}
