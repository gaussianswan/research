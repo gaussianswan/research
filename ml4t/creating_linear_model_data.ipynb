{
 "cells": [
  {
   "cell_type": "markdown",
   "metadata": {},
   "source": [
    "#### Following the steps to prepare the data for the linear model"
   ]
  },
  {
   "cell_type": "code",
   "execution_count": 1,
   "metadata": {},
   "outputs": [],
   "source": [
    "import warnings \n",
    "warnings.filterwarnings('ignore')\n",
    "\n",
    "%matplotlib inline\n",
    "\n",
    "import numpy as np\n",
    "import pandas as pd\n",
    "import matplotlib.pyplot as plt\n",
    "import seaborn as sns\n",
    "from scipy.stats import pearsonr, spearmanr\n",
    "from talib import RSI, BBANDS, MACD, ATR"
   ]
  },
  {
   "cell_type": "code",
   "execution_count": 17,
   "metadata": {},
   "outputs": [],
   "source": [
    "MONTH = 21\n",
    "YEAR = 12 * MONTH\n",
    "START = '2013-01-01'\n",
    "END = '2017-12-31'\n",
    "\n",
    "sns.set_style('whitegrid')\n",
    "idx = pd.IndexSlice\n",
    "\n",
    "ohlcv = ['adj_open', 'adj_close', 'adj_low', 'adj_high', 'adj_volume']"
   ]
  },
  {
   "cell_type": "code",
   "execution_count": 18,
   "metadata": {},
   "outputs": [],
   "source": [
    "DATA_STORE = 'data/assets.h5'\n",
    "\n",
    "with pd.HDFStore(DATA_STORE) as store:\n",
    "    prices = (store['quandl/wiki/prices']\n",
    "              .loc[idx[START:END, :], ohlcv]\n",
    "              .rename(columns=lambda x: x.replace('adj_', ''))\n",
    "              .assign(volume=lambda x: x.volume.div(1000))\n",
    "              .swaplevel()\n",
    "              .sort_index())\n",
    "\n",
    "    stocks = (store['us_equities/stocks']\n",
    "              .loc[:, ['marketcap', 'ipoyear', 'sector']])"
   ]
  },
  {
   "cell_type": "markdown",
   "metadata": {},
   "source": [
    "### Removing data with few observations\n",
    "\n"
   ]
  },
  {
   "cell_type": "code",
   "execution_count": 19,
   "metadata": {},
   "outputs": [],
   "source": [
    "# want at least 2 years of data\n",
    "min_obs = 2 * YEAR\n",
    "\n",
    "# have this much per ticker \n",
    "nobs = prices.groupby(level='ticker').size()\n",
    "\n",
    "# keep those that exceed the limit\n",
    "keep = nobs[nobs > min_obs].index\n",
    "\n",
    "prices = prices.loc[idx[keep, :], :]"
   ]
  },
  {
   "cell_type": "code",
   "execution_count": 20,
   "metadata": {},
   "outputs": [],
   "source": [
    "stocks = stocks[~stocks.index.duplicated() & stocks.sector.notnull()]\n",
    "stocks.sector = stocks.sector.str.lower().str.replace(' ', '_')\n",
    "stocks.index.name = 'ticker'\n",
    "\n",
    "shared = (prices.index.get_level_values('ticker').unique()\n",
    "          .intersection(stocks.index))\n",
    "stocks = stocks.loc[shared, :]\n",
    "prices = prices.loc[idx[shared, :], :]"
   ]
  },
  {
   "cell_type": "markdown",
   "metadata": {},
   "source": [
    "#### Computing the rolling average dollar volume"
   ]
  },
  {
   "cell_type": "code",
   "execution_count": 21,
   "metadata": {},
   "outputs": [],
   "source": [
    "# compute dollar volume to determine universe\n",
    "prices['dollar_vol'] = prices[['close', 'volume']].prod(axis=1)\n",
    "prices['dollar_vol'] = prices.groupby('ticker').dollar_vol.rolling(window = 21).mean().reset_index(level = 0, drop = True)\n",
    "prices['dollar_vol_rank'] = prices.groupby('date').dollar_vol.rank(ascending=False)"
   ]
  },
  {
   "cell_type": "code",
   "execution_count": 22,
   "metadata": {},
   "outputs": [],
   "source": [
    "# Defining some TA functions which will give us features\n",
    "def compute_bb(close):\n",
    "    high, mid, low = BBANDS(close, timeperiod=20)\n",
    "    return pd.DataFrame({'bb_high': high, 'bb_low': low}, index=close.index)\n",
    "\n",
    "def compute_atr(stock_data):\n",
    "    df = ATR(stock_data.high, stock_data.low, \n",
    "             stock_data.close, timeperiod=14)\n",
    "    return df.sub(df.mean()).div(df.std())\n",
    "\n",
    "def compute_macd(close):\n",
    "    macd = MACD(close)[0]\n",
    "    return (macd - np.mean(macd))/np.std(macd)"
   ]
  },
  {
   "cell_type": "code",
   "execution_count": 23,
   "metadata": {},
   "outputs": [],
   "source": [
    "# Adding RSI features\n",
    "prices['rsi'] = prices.groupby(level='ticker').close.apply(RSI)\n",
    "\n",
    "# Creating bollinger bands features\n",
    "prices = (prices.join(prices\n",
    "                      .groupby(level='ticker')\n",
    "                      .close\n",
    "                      .apply(compute_bb)))\n",
    "\n",
    "prices['bb_high'] = prices.bb_high.sub(prices.close).div(prices.bb_high).apply(np.log1p)\n",
    "prices['bb_low'] = prices.close.sub(prices.bb_low).div(prices.close).apply(np.log1p)\n",
    "\n",
    "# Adding ATR here as well\n",
    "prices['atr'] = (prices.groupby('ticker', group_keys=False)\n",
    "                 .apply(compute_atr))\n",
    "\n",
    "# Adding MACD feature\n",
    "prices['macd'] = (prices\n",
    "                  .groupby('ticker', group_keys=False)\n",
    "                  .close\n",
    "                  .apply(compute_macd))\n",
    "\n",
    "# Adding lagged returns\n",
    "lags = [1, 5, 10, 21, 42, 63]\n",
    "q = 0.0001\n",
    "for lag in lags:\n",
    "    prices[f'return_{lag}d'] = (prices.groupby(level='ticker').close\n",
    "                                .pct_change(lag)\n",
    "                                .pipe(lambda x: x.clip(lower=x.quantile(q),\n",
    "                                                       upper=x.quantile(1 - q)))\n",
    "                                .add(1)\n",
    "                                .pow(1 / lag)\n",
    "                                .sub(1)\n",
    "                                )\n",
    "    \n",
    "\n",
    "# Shifting the lagged returns as well\n",
    "for t in [1, 2, 3, 4, 5]:\n",
    "    for lag in [1, 5, 10, 21]:\n",
    "        prices[f'return_{lag}d_lag{t}'] = (prices.groupby(level='ticker')\n",
    "                                           [f'return_{lag}d'].shift(t * lag))"
   ]
  },
  {
   "cell_type": "markdown",
   "metadata": {},
   "source": [
    "### computing the forward returns\n",
    "\n",
    "We are going to use these as the targets\n"
   ]
  },
  {
   "cell_type": "code",
   "execution_count": 24,
   "metadata": {},
   "outputs": [],
   "source": [
    "for t in [1, 5, 10, 21]:\n",
    "    prices[f'target_{t}d'] = prices.groupby(level='ticker')[f'return_{t}d'].shift(-t)"
   ]
  },
  {
   "cell_type": "code",
   "execution_count": 25,
   "metadata": {},
   "outputs": [],
   "source": [
    "prices = prices.join(stocks[['sector']])"
   ]
  },
  {
   "cell_type": "code",
   "execution_count": 26,
   "metadata": {},
   "outputs": [],
   "source": [
    "prices['year'] = prices.index.get_level_values('date').year\n",
    "prices['month'] = prices.index.get_level_values('date').month"
   ]
  },
  {
   "cell_type": "code",
   "execution_count": 27,
   "metadata": {},
   "outputs": [],
   "source": [
    "# We are assigning this to some HDF store and calling it no_dummies\n",
    "prices.assign(sector=pd.factorize(prices.sector, sort=True)[0]).to_hdf('data/data.h5', 'model_data/no_dummies')"
   ]
  },
  {
   "cell_type": "markdown",
   "metadata": {},
   "source": [
    "#### Creating dummy variables for the year and month"
   ]
  },
  {
   "cell_type": "code",
   "execution_count": 28,
   "metadata": {},
   "outputs": [],
   "source": [
    "\n",
    "prices = pd.get_dummies(prices,\n",
    "                        columns=['year', 'month', 'sector'],\n",
    "                        prefix=['year', 'month', ''],\n",
    "                        prefix_sep=['_', '_', ''],\n",
    "                        drop_first=True)"
   ]
  },
  {
   "cell_type": "code",
   "execution_count": 29,
   "metadata": {},
   "outputs": [
    {
     "name": "stdout",
     "output_type": "stream",
     "text": [
      "<class 'pandas.core.frame.DataFrame'>\n",
      "MultiIndex: 2904233 entries, ('A', Timestamp('2013-01-02 00:00:00')) to ('ZUMZ', Timestamp('2017-12-29 00:00:00'))\n",
      "Data columns (total 68 columns):\n",
      " #   Column                 Non-Null Count    Dtype  \n",
      "---  ------                 --------------    -----  \n",
      " 0   open                   2904233 non-null  float64\n",
      " 1   close                  2904233 non-null  float64\n",
      " 2   low                    2904233 non-null  float64\n",
      " 3   high                   2904233 non-null  float64\n",
      " 4   volume                 2904233 non-null  float64\n",
      " 5   dollar_vol             2857273 non-null  float64\n",
      " 6   dollar_vol_rank        2857273 non-null  float64\n",
      " 7   rsi                    2871361 non-null  float64\n",
      " 8   bb_high                2859618 non-null  float64\n",
      " 9   bb_low                 2859585 non-null  float64\n",
      " 10  atr                    2871361 non-null  float64\n",
      " 11  macd                   2826749 non-null  float64\n",
      " 12  return_1d              2901885 non-null  float64\n",
      " 13  return_5d              2892493 non-null  float64\n",
      " 14  return_10d             2880753 non-null  float64\n",
      " 15  return_21d             2854925 non-null  float64\n",
      " 16  return_42d             2805617 non-null  float64\n",
      " 17  return_63d             2756309 non-null  float64\n",
      " 18  return_1d_lag1         2899537 non-null  float64\n",
      " 19  return_5d_lag1         2880753 non-null  float64\n",
      " 20  return_10d_lag1        2857273 non-null  float64\n",
      " 21  return_21d_lag1        2805617 non-null  float64\n",
      " 22  return_1d_lag2         2897189 non-null  float64\n",
      " 23  return_5d_lag2         2869013 non-null  float64\n",
      " 24  return_10d_lag2        2833793 non-null  float64\n",
      " 25  return_21d_lag2        2756309 non-null  float64\n",
      " 26  return_1d_lag3         2894841 non-null  float64\n",
      " 27  return_5d_lag3         2857273 non-null  float64\n",
      " 28  return_10d_lag3        2810313 non-null  float64\n",
      " 29  return_21d_lag3        2707001 non-null  float64\n",
      " 30  return_1d_lag4         2892493 non-null  float64\n",
      " 31  return_5d_lag4         2845533 non-null  float64\n",
      " 32  return_10d_lag4        2786833 non-null  float64\n",
      " 33  return_21d_lag4        2657693 non-null  float64\n",
      " 34  return_1d_lag5         2890145 non-null  float64\n",
      " 35  return_5d_lag5         2833793 non-null  float64\n",
      " 36  return_10d_lag5        2763353 non-null  float64\n",
      " 37  return_21d_lag5        2608385 non-null  float64\n",
      " 38  target_1d              2901885 non-null  float64\n",
      " 39  target_5d              2892493 non-null  float64\n",
      " 40  target_10d             2880753 non-null  float64\n",
      " 41  target_21d             2854925 non-null  float64\n",
      " 42  year_2014              2904233 non-null  uint8  \n",
      " 43  year_2015              2904233 non-null  uint8  \n",
      " 44  year_2016              2904233 non-null  uint8  \n",
      " 45  year_2017              2904233 non-null  uint8  \n",
      " 46  month_2                2904233 non-null  uint8  \n",
      " 47  month_3                2904233 non-null  uint8  \n",
      " 48  month_4                2904233 non-null  uint8  \n",
      " 49  month_5                2904233 non-null  uint8  \n",
      " 50  month_6                2904233 non-null  uint8  \n",
      " 51  month_7                2904233 non-null  uint8  \n",
      " 52  month_8                2904233 non-null  uint8  \n",
      " 53  month_9                2904233 non-null  uint8  \n",
      " 54  month_10               2904233 non-null  uint8  \n",
      " 55  month_11               2904233 non-null  uint8  \n",
      " 56  month_12               2904233 non-null  uint8  \n",
      " 57  capital_goods          2904233 non-null  uint8  \n",
      " 58  consumer_durables      2904233 non-null  uint8  \n",
      " 59  consumer_non-durables  2904233 non-null  uint8  \n",
      " 60  consumer_services      2904233 non-null  uint8  \n",
      " 61  energy                 2904233 non-null  uint8  \n",
      " 62  finance                2904233 non-null  uint8  \n",
      " 63  health_care            2904233 non-null  uint8  \n",
      " 64  miscellaneous          2904233 non-null  uint8  \n",
      " 65  public_utilities       2904233 non-null  uint8  \n",
      " 66  technology             2904233 non-null  uint8  \n",
      " 67  transportation         2904233 non-null  uint8  \n",
      "dtypes: float64(42), uint8(26)\n",
      "memory usage: 1.1+ GB\n"
     ]
    }
   ],
   "source": [
    "\n",
    "prices.info(null_counts=True)"
   ]
  },
  {
   "cell_type": "code",
   "execution_count": 30,
   "metadata": {},
   "outputs": [],
   "source": [
    "prices.to_hdf('data/data.h5', 'model_data')"
   ]
  }
 ],
 "metadata": {
  "kernelspec": {
   "display_name": "research_env",
   "language": "python",
   "name": "python3"
  },
  "language_info": {
   "codemirror_mode": {
    "name": "ipython",
    "version": 3
   },
   "file_extension": ".py",
   "mimetype": "text/x-python",
   "name": "python",
   "nbconvert_exporter": "python",
   "pygments_lexer": "ipython3",
   "version": "3.10.6"
  },
  "orig_nbformat": 4
 },
 "nbformat": 4,
 "nbformat_minor": 2
}
