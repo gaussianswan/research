{
 "cells": [
  {
   "cell_type": "markdown",
   "metadata": {},
   "source": [
    "#### Setting up features\n",
    "\n",
    "In this notebook, we are going to analyze the features that we want to put into the model. The flow goes as this: \n",
    "* Calculate the features and add them to the data \n",
    "* Set up the regression problem \n",
    "* Do various feature selection techniques\n",
    "    * Feature Importance from Random Forest \n",
    "    * Mutual Information for Classification \n",
    "    * Boruta algorithm for figuring out all the relevant features"
   ]
  },
  {
   "cell_type": "code",
   "execution_count": 52,
   "metadata": {},
   "outputs": [],
   "source": [
    "import pandas as pd \n",
    "import numpy as np \n",
    "import matplotlib.pyplot as plt \n",
    "import seaborn as sns \n",
    "import yfinance as yf \n",
    "import pandas_ta as ta \n",
    "\n",
    "from sklearn.ensemble import RandomForestRegressor\n",
    "from sklearn.tree import DecisionTreeRegressor\n",
    "from sklearn.model_selection import train_test_split\n",
    "from sklearn.feature_selection import mutual_info_regression, f_regression\n",
    "\n",
    "from boruta import BorutaPy\n",
    "\n",
    "%matplotlib inline "
   ]
  },
  {
   "cell_type": "code",
   "execution_count": 2,
   "metadata": {},
   "outputs": [],
   "source": [
    "# ticker = '^GSPC'\n",
    "# data = yf.download(tickers=ticker, progress=False)\n",
    "# data.to_csv(\"data.csv\")"
   ]
  },
  {
   "cell_type": "code",
   "execution_count": 27,
   "metadata": {},
   "outputs": [],
   "source": [
    "data = pd.read_csv(\"data.csv\", index_col=0)"
   ]
  },
  {
   "cell_type": "code",
   "execution_count": 28,
   "metadata": {},
   "outputs": [],
   "source": [
    "start_date = '1970-01-01'\n",
    "data = data.loc[start_date:]"
   ]
  },
  {
   "cell_type": "markdown",
   "metadata": {},
   "source": [
    "#### Feature list\n",
    "\n",
    "From the machine learning for trading book, there are a bunch of technical features that I want to try out. \n",
    "* Bollinger Bands Features \n",
    "* RSI features\n",
    "* MACD features \n",
    "* ADX \n",
    "* Price Momentum\n",
    "* Normalized Average True Range\n",
    "* Aroon \n",
    "* Stochastic Relative Strength Index \n",
    "* Williams %R\n",
    "* Chaikin Accumulation and Distribution\n",
    "* Correlation Trend Indicator\n"
   ]
  },
  {
   "cell_type": "code",
   "execution_count": 29,
   "metadata": {},
   "outputs": [],
   "source": [
    "willr = data.ta.willr()\n",
    "rsi = data.ta.rsi() \n",
    "natr = data.ta.natr()\n",
    "stoch_rsi = data.ta.stochrsi()\n",
    "chaikin_money_flow = data.ta.cmf()\n",
    "\n",
    "macd = data.ta.macd()\n",
    "bbands = data.ta.bbands(length = 20, std = 2)\n",
    "cti = data.ta.cti(length = 20)\n",
    "\n",
    "# Creating the momentum factors which are the previous returns\n",
    "return_periods = [1, 3, 5]\n",
    "previous_returns = pd.DataFrame()\n",
    "for period in return_periods: \n",
    "    col_name = f'return_{period}'\n",
    "    ret = data['Close'].pct_change(period)\n",
    "    previous_returns[col_name] = ret\n",
    "\n"
   ]
  },
  {
   "cell_type": "markdown",
   "metadata": {},
   "source": [
    "We have all of these technical indicators, we can do some work on turning into informative stuff for us. "
   ]
  },
  {
   "cell_type": "markdown",
   "metadata": {},
   "source": [
    "#### Normalizing the MACD \n",
    "\n",
    "The MACD is the difference between the 12 period EMA and the 26 period EMA. We also get the *signal* line which is the 9 period EMA of the MACD line. The *histogram* is the difference between the indicator (MACD) and the signal line. There are a couple of ways that we can normalize this: \n",
    "* Divide the MACD value by the current close price\n",
    "* Divide the signal line by the close price \n",
    "* Divide the absolute value of the histogram value by the close price and then apply the sign to it. "
   ]
  },
  {
   "cell_type": "code",
   "execution_count": 30,
   "metadata": {},
   "outputs": [],
   "source": [
    "macd_normalized = macd.iloc[:, 0].div(data['Close'])\n",
    "macd_normalized.name = 'MACD_normalized'\n",
    "\n",
    "macd_signal_normalized = macd.iloc[:, 1].div(data['Close'])\n",
    "macd_signal_normalized.name = 'MACD_signal_normalized'\n",
    "\n",
    "macd_histogram_normalized = macd.iloc[:, 2].div(data['Close'])\n",
    "macd_histogram_normalized.name = 'MACD_histogram_normalized'"
   ]
  },
  {
   "cell_type": "markdown",
   "metadata": {},
   "source": [
    "#### Normalizing the Bollinger Bands\n",
    "\n",
    "The Bollinger bands that we get are in terms of the actual price. We want to normalize this in some way that makes sense. The bollinger band feature tells you how far you are from the different channels that they create based on standard deviation. \n",
    "* Distance in channel which is the close price - low band / (high band - low band)\n",
    "    * pandas ta calculates this for us already"
   ]
  },
  {
   "cell_type": "code",
   "execution_count": 31,
   "metadata": {},
   "outputs": [],
   "source": [
    "bollinger_band_feature = bbands.iloc[:, 4]"
   ]
  },
  {
   "cell_type": "code",
   "execution_count": 32,
   "metadata": {},
   "outputs": [],
   "source": [
    "features = pd.concat([\n",
    "    willr, rsi, natr, stoch_rsi, chaikin_money_flow, cti, previous_returns, \n",
    "    macd_normalized, macd_signal_normalized, macd_histogram_normalized, bollinger_band_feature\n",
    "], axis = 1)"
   ]
  },
  {
   "cell_type": "markdown",
   "metadata": {},
   "source": [
    "#### Creating the target for regression\n",
    "\n",
    "For illustrative purposes, we are going to look at one day ahead returns as our target variable. We are going to use the close to close return for now. \n",
    "\n"
   ]
  },
  {
   "cell_type": "code",
   "execution_count": 33,
   "metadata": {},
   "outputs": [],
   "source": [
    "target = data['Close'].pct_change().shift(-1).dropna()"
   ]
  },
  {
   "cell_type": "code",
   "execution_count": 34,
   "metadata": {},
   "outputs": [],
   "source": [
    "all_data = pd.concat([features, target], axis = 1).dropna()"
   ]
  },
  {
   "cell_type": "markdown",
   "metadata": {},
   "source": [
    "#### Feature selection\n",
    "\n",
    "Feature selection is the process of picking out the most relevant features for your problem so that you avoid making an overly complex model. We are going to test out a couple different methods for this: \n",
    "* Simple random forest feature importances\n",
    "    * This trains a random forest model and shows the relative gain achieved by the features over the dataset\n",
    "    * We are assuming that these are all relevant to our problem\n",
    "* Mutual Information Regression \n",
    "    * We calculate the mutual information on all of the features to the target variable. We see which ones show up in the top K of observations \n",
    "* Boruta algorithm \n",
    "    * This is an algorithm for picking out the features that are *ALL RELEVANT* to the machine learning task at hand. \n",
    "    * This uses the random forest algorithm feature importances but does a randomization of the features such that it chooses those are actually relevant to the problem \n",
    "    * Does not tell you how they come together to solve a problem but would be helpful for taking out a lot of features in your problem \n",
    "\n",
    "My goal is to take out the best 5 features from these algorithms and use that for a final model. "
   ]
  },
  {
   "cell_type": "code",
   "execution_count": 35,
   "metadata": {},
   "outputs": [],
   "source": [
    "X = all_data.iloc[:, :-1]\n",
    "y = all_data.iloc[:, -1]\n",
    "\n",
    "# Doing some training and testing split. Super simple right now\n",
    "X_train, X_test, y_train, y_test = train_test_split(X, y, test_size=0.2, shuffle=False)"
   ]
  },
  {
   "cell_type": "markdown",
   "metadata": {},
   "source": [
    "#### Random Forest Feature importances\n",
    "\n",
    "In here, we are going to see the feature importances from the Random Forest Model on the target variable"
   ]
  },
  {
   "cell_type": "code",
   "execution_count": 42,
   "metadata": {},
   "outputs": [
    {
     "data": {
      "text/html": [
       "<style>#sk-container-id-4 {color: black;background-color: white;}#sk-container-id-4 pre{padding: 0;}#sk-container-id-4 div.sk-toggleable {background-color: white;}#sk-container-id-4 label.sk-toggleable__label {cursor: pointer;display: block;width: 100%;margin-bottom: 0;padding: 0.3em;box-sizing: border-box;text-align: center;}#sk-container-id-4 label.sk-toggleable__label-arrow:before {content: \"▸\";float: left;margin-right: 0.25em;color: #696969;}#sk-container-id-4 label.sk-toggleable__label-arrow:hover:before {color: black;}#sk-container-id-4 div.sk-estimator:hover label.sk-toggleable__label-arrow:before {color: black;}#sk-container-id-4 div.sk-toggleable__content {max-height: 0;max-width: 0;overflow: hidden;text-align: left;background-color: #f0f8ff;}#sk-container-id-4 div.sk-toggleable__content pre {margin: 0.2em;color: black;border-radius: 0.25em;background-color: #f0f8ff;}#sk-container-id-4 input.sk-toggleable__control:checked~div.sk-toggleable__content {max-height: 200px;max-width: 100%;overflow: auto;}#sk-container-id-4 input.sk-toggleable__control:checked~label.sk-toggleable__label-arrow:before {content: \"▾\";}#sk-container-id-4 div.sk-estimator input.sk-toggleable__control:checked~label.sk-toggleable__label {background-color: #d4ebff;}#sk-container-id-4 div.sk-label input.sk-toggleable__control:checked~label.sk-toggleable__label {background-color: #d4ebff;}#sk-container-id-4 input.sk-hidden--visually {border: 0;clip: rect(1px 1px 1px 1px);clip: rect(1px, 1px, 1px, 1px);height: 1px;margin: -1px;overflow: hidden;padding: 0;position: absolute;width: 1px;}#sk-container-id-4 div.sk-estimator {font-family: monospace;background-color: #f0f8ff;border: 1px dotted black;border-radius: 0.25em;box-sizing: border-box;margin-bottom: 0.5em;}#sk-container-id-4 div.sk-estimator:hover {background-color: #d4ebff;}#sk-container-id-4 div.sk-parallel-item::after {content: \"\";width: 100%;border-bottom: 1px solid gray;flex-grow: 1;}#sk-container-id-4 div.sk-label:hover label.sk-toggleable__label {background-color: #d4ebff;}#sk-container-id-4 div.sk-serial::before {content: \"\";position: absolute;border-left: 1px solid gray;box-sizing: border-box;top: 0;bottom: 0;left: 50%;z-index: 0;}#sk-container-id-4 div.sk-serial {display: flex;flex-direction: column;align-items: center;background-color: white;padding-right: 0.2em;padding-left: 0.2em;position: relative;}#sk-container-id-4 div.sk-item {position: relative;z-index: 1;}#sk-container-id-4 div.sk-parallel {display: flex;align-items: stretch;justify-content: center;background-color: white;position: relative;}#sk-container-id-4 div.sk-item::before, #sk-container-id-4 div.sk-parallel-item::before {content: \"\";position: absolute;border-left: 1px solid gray;box-sizing: border-box;top: 0;bottom: 0;left: 50%;z-index: -1;}#sk-container-id-4 div.sk-parallel-item {display: flex;flex-direction: column;z-index: 1;position: relative;background-color: white;}#sk-container-id-4 div.sk-parallel-item:first-child::after {align-self: flex-end;width: 50%;}#sk-container-id-4 div.sk-parallel-item:last-child::after {align-self: flex-start;width: 50%;}#sk-container-id-4 div.sk-parallel-item:only-child::after {width: 0;}#sk-container-id-4 div.sk-dashed-wrapped {border: 1px dashed gray;margin: 0 0.4em 0.5em 0.4em;box-sizing: border-box;padding-bottom: 0.4em;background-color: white;}#sk-container-id-4 div.sk-label label {font-family: monospace;font-weight: bold;display: inline-block;line-height: 1.2em;}#sk-container-id-4 div.sk-label-container {text-align: center;}#sk-container-id-4 div.sk-container {/* jupyter's `normalize.less` sets `[hidden] { display: none; }` but bootstrap.min.css set `[hidden] { display: none !important; }` so we also need the `!important` here to be able to override the default hidden behavior on the sphinx rendered scikit-learn.org. See: https://github.com/scikit-learn/scikit-learn/issues/21755 */display: inline-block !important;position: relative;}#sk-container-id-4 div.sk-text-repr-fallback {display: none;}</style><div id=\"sk-container-id-4\" class=\"sk-top-container\"><div class=\"sk-text-repr-fallback\"><pre>RandomForestRegressor(max_depth=5, n_estimators=500, n_jobs=-1,\n",
       "                      random_state=100)</pre><b>In a Jupyter environment, please rerun this cell to show the HTML representation or trust the notebook. <br />On GitHub, the HTML representation is unable to render, please try loading this page with nbviewer.org.</b></div><div class=\"sk-container\" hidden><div class=\"sk-item\"><div class=\"sk-estimator sk-toggleable\"><input class=\"sk-toggleable__control sk-hidden--visually\" id=\"sk-estimator-id-4\" type=\"checkbox\" checked><label for=\"sk-estimator-id-4\" class=\"sk-toggleable__label sk-toggleable__label-arrow\">RandomForestRegressor</label><div class=\"sk-toggleable__content\"><pre>RandomForestRegressor(max_depth=5, n_estimators=500, n_jobs=-1,\n",
       "                      random_state=100)</pre></div></div></div></div></div>"
      ],
      "text/plain": [
       "RandomForestRegressor(max_depth=5, n_estimators=500, n_jobs=-1,\n",
       "                      random_state=100)"
      ]
     },
     "execution_count": 42,
     "metadata": {},
     "output_type": "execute_result"
    }
   ],
   "source": [
    "forest_model = RandomForestRegressor(\n",
    "    n_estimators=500, \n",
    "    random_state=100, \n",
    "    n_jobs=-1, \n",
    "    max_depth=5\n",
    ")\n",
    "\n",
    "forest_model.fit(X_train, y_train)"
   ]
  },
  {
   "cell_type": "code",
   "execution_count": 43,
   "metadata": {},
   "outputs": [],
   "source": [
    "importances_forest_model = pd.Series(forest_model.feature_importances_, index = X.columns)\n",
    "importances_forest_model.sort_values(ascending=True, inplace=True)"
   ]
  },
  {
   "cell_type": "code",
   "execution_count": 44,
   "metadata": {},
   "outputs": [
    {
     "data": {
      "image/png": "[encoded data removed]",
      "text/plain": [
       "<Figure size 640x480 with 1 Axes>"
      ]
     },
     "metadata": {},
     "output_type": "display_data"
    }
   ],
   "source": [
    "fig, ax = plt.subplots()\n",
    "ax.barh(y = importances_forest_model.index, width = importances_forest_model)\n",
    "ax.set(title = 'Feature Importance from Random Forest Model', xlabel = 'Feature Importance', ylabel = 'Feature')\n",
    "plt.show()"
   ]
  },
  {
   "cell_type": "markdown",
   "metadata": {},
   "source": [
    "From this initial pass, we used a Random Forest Regressor with 500 trees and max depth of 5 (to avoid overfitting). Interestingly, we see that the previous return features are the most used here. There is a large drop off in terms of importance though for the technical features of which the normalized MACD and the NATR over a 14 day period came in just at 10%. \n",
    "\n",
    "We can consider a model which uses the top 5 here. "
   ]
  },
  {
   "cell_type": "markdown",
   "metadata": {},
   "source": [
    "#### Mutual Information for Regression\n",
    "\n",
    "After doing a simple feature importances from a random forest model, we are going to a mutual information regression. "
   ]
  },
  {
   "cell_type": "code",
   "execution_count": 49,
   "metadata": {},
   "outputs": [],
   "source": [
    "mutual_info_values = mutual_info_regression(X = X_train, y = y_train)\n",
    "mutual_info = pd.Series(mutual_info_values, index = X_train.columns)\n",
    "mutual_info.sort_values(ascending=True, inplace=True)"
   ]
  },
  {
   "cell_type": "code",
   "execution_count": 51,
   "metadata": {},
   "outputs": [
    {
     "data": {
      "image/png": "[encoded data removed]",
      "text/plain": [
       "<Figure size 640x480 with 1 Axes>"
      ]
     },
     "metadata": {},
     "output_type": "display_data"
    }
   ],
   "source": [
    "fig, ax = plt.subplots()\n",
    "ax.barh(y = mutual_info.index, width = mutual_info)\n",
    "ax.set(title = 'Mutual Information Regression', xlabel = 'Mutual Info', ylabel = 'Feature')\n",
    "plt.show()"
   ]
  },
  {
   "cell_type": "markdown",
   "metadata": {},
   "source": [
    "When we look at this, we see some interesting things: \n",
    "* The Normalized Average True Range comes up again as an \"important feature\" with the highest mutual information value \n",
    "* The mutual information for the return features are not that high but are not in the lowest categories either\n",
    "* The MACD features seem to be doing well in terms of mutual information which means that they should be informative for our model"
   ]
  },
  {
   "cell_type": "markdown",
   "metadata": {},
   "source": [
    "#### Boruta algorithm for All Relevant Problem\n",
    "\n",
    "Sometimes, we want to know if the features that we have are relevant objectively. There is an algorithm that we can use for getting a determination of this. It's called the Boruta algorithm. \n",
    "\n",
    "At a high level, Boruta goes through each of your features and trains a random forest on them with the target. If the features are informative over some random disturbance to them, then you should keep it. "
   ]
  },
  {
   "cell_type": "markdown",
   "metadata": {},
   "source": []
  },
  {
   "cell_type": "code",
   "execution_count": 53,
   "metadata": {},
   "outputs": [],
   "source": [
    "boruta_forest = RandomForestRegressor(\n",
    "    n_estimators = 500, \n",
    "    n_jobs = -1, \n",
    "    max_depth = 5\n",
    ")\n",
    "\n",
    "feat_selector = BorutaPy(\n",
    "    estimator=boruta_forest, \n",
    "    n_estimators='auto', \n",
    "    max_iter = 100, \n",
    "    random_state=100, \n",
    "    verbose=2\n",
    ")"
   ]
  },
  {
   "cell_type": "code",
   "execution_count": 58,
   "metadata": {},
   "outputs": [
    {
     "name": "stdout",
     "output_type": "stream",
     "text": [
      "Iteration: \t1 / 100\n",
      "Confirmed: \t0\n",
      "Tentative: \t14\n",
      "Rejected: \t0\n",
      "Iteration: \t2 / 100\n",
      "Confirmed: \t0\n",
      "Tentative: \t14\n",
      "Rejected: \t0\n",
      "Iteration: \t3 / 100\n",
      "Confirmed: \t0\n",
      "Tentative: \t14\n",
      "Rejected: \t0\n",
      "Iteration: \t4 / 100\n",
      "Confirmed: \t0\n",
      "Tentative: \t14\n",
      "Rejected: \t0\n",
      "Iteration: \t5 / 100\n",
      "Confirmed: \t0\n",
      "Tentative: \t14\n",
      "Rejected: \t0\n",
      "Iteration: \t6 / 100\n",
      "Confirmed: \t0\n",
      "Tentative: \t14\n",
      "Rejected: \t0\n",
      "Iteration: \t7 / 100\n",
      "Confirmed: \t0\n",
      "Tentative: \t14\n",
      "Rejected: \t0\n",
      "Iteration: \t8 / 100\n",
      "Confirmed: \t6\n",
      "Tentative: \t1\n",
      "Rejected: \t7\n",
      "Iteration: \t9 / 100\n",
      "Confirmed: \t6\n",
      "Tentative: \t1\n",
      "Rejected: \t7\n",
      "Iteration: \t10 / 100\n",
      "Confirmed: \t6\n",
      "Tentative: \t1\n",
      "Rejected: \t7\n",
      "Iteration: \t11 / 100\n",
      "Confirmed: \t6\n",
      "Tentative: \t1\n",
      "Rejected: \t7\n",
      "Iteration: \t12 / 100\n",
      "Confirmed: \t6\n",
      "Tentative: \t1\n",
      "Rejected: \t7\n",
      "Iteration: \t13 / 100\n",
      "Confirmed: \t6\n",
      "Tentative: \t1\n",
      "Rejected: \t7\n",
      "Iteration: \t14 / 100\n",
      "Confirmed: \t6\n",
      "Tentative: \t1\n",
      "Rejected: \t7\n",
      "Iteration: \t15 / 100\n",
      "Confirmed: \t6\n",
      "Tentative: \t1\n",
      "Rejected: \t7\n",
      "Iteration: \t16 / 100\n",
      "Confirmed: \t6\n",
      "Tentative: \t1\n",
      "Rejected: \t7\n",
      "Iteration: \t17 / 100\n",
      "Confirmed: \t6\n",
      "Tentative: \t1\n",
      "Rejected: \t7\n",
      "Iteration: \t18 / 100\n",
      "Confirmed: \t6\n",
      "Tentative: \t1\n",
      "Rejected: \t7\n",
      "Iteration: \t19 / 100\n",
      "Confirmed: \t6\n",
      "Tentative: \t1\n",
      "Rejected: \t7\n",
      "Iteration: \t20 / 100\n",
      "Confirmed: \t6\n",
      "Tentative: \t1\n",
      "Rejected: \t7\n",
      "Iteration: \t21 / 100\n",
      "Confirmed: \t6\n",
      "Tentative: \t1\n",
      "Rejected: \t7\n",
      "Iteration: \t22 / 100\n",
      "Confirmed: \t6\n",
      "Tentative: \t1\n",
      "Rejected: \t7\n",
      "Iteration: \t23 / 100\n",
      "Confirmed: \t6\n",
      "Tentative: \t1\n",
      "Rejected: \t7\n",
      "Iteration: \t24 / 100\n",
      "Confirmed: \t6\n",
      "Tentative: \t1\n",
      "Rejected: \t7\n",
      "Iteration: \t25 / 100\n",
      "Confirmed: \t6\n",
      "Tentative: \t1\n",
      "Rejected: \t7\n",
      "Iteration: \t26 / 100\n",
      "Confirmed: \t6\n",
      "Tentative: \t1\n",
      "Rejected: \t7\n",
      "Iteration: \t27 / 100\n",
      "Confirmed: \t6\n",
      "Tentative: \t1\n",
      "Rejected: \t7\n",
      "Iteration: \t28 / 100\n",
      "Confirmed: \t6\n",
      "Tentative: \t1\n",
      "Rejected: \t7\n",
      "Iteration: \t29 / 100\n",
      "Confirmed: \t6\n",
      "Tentative: \t1\n",
      "Rejected: \t7\n",
      "Iteration: \t30 / 100\n",
      "Confirmed: \t6\n",
      "Tentative: \t1\n",
      "Rejected: \t7\n",
      "Iteration: \t31 / 100\n",
      "Confirmed: \t6\n",
      "Tentative: \t1\n",
      "Rejected: \t7\n",
      "Iteration: \t32 / 100\n",
      "Confirmed: \t6\n",
      "Tentative: \t1\n",
      "Rejected: \t7\n",
      "Iteration: \t33 / 100\n",
      "Confirmed: \t6\n",
      "Tentative: \t1\n",
      "Rejected: \t7\n",
      "Iteration: \t34 / 100\n",
      "Confirmed: \t6\n",
      "Tentative: \t1\n",
      "Rejected: \t7\n",
      "Iteration: \t35 / 100\n",
      "Confirmed: \t6\n",
      "Tentative: \t1\n",
      "Rejected: \t7\n",
      "Iteration: \t36 / 100\n",
      "Confirmed: \t6\n",
      "Tentative: \t1\n",
      "Rejected: \t7\n",
      "Iteration: \t37 / 100\n",
      "Confirmed: \t6\n",
      "Tentative: \t1\n",
      "Rejected: \t7\n",
      "Iteration: \t38 / 100\n",
      "Confirmed: \t6\n",
      "Tentative: \t1\n",
      "Rejected: \t7\n",
      "Iteration: \t39 / 100\n",
      "Confirmed: \t6\n",
      "Tentative: \t1\n",
      "Rejected: \t7\n",
      "Iteration: \t40 / 100\n",
      "Confirmed: \t6\n",
      "Tentative: \t1\n",
      "Rejected: \t7\n",
      "Iteration: \t41 / 100\n",
      "Confirmed: \t6\n",
      "Tentative: \t1\n",
      "Rejected: \t7\n",
      "Iteration: \t42 / 100\n",
      "Confirmed: \t6\n",
      "Tentative: \t1\n",
      "Rejected: \t7\n",
      "Iteration: \t43 / 100\n",
      "Confirmed: \t6\n",
      "Tentative: \t1\n",
      "Rejected: \t7\n",
      "Iteration: \t44 / 100\n",
      "Confirmed: \t6\n",
      "Tentative: \t1\n",
      "Rejected: \t7\n",
      "Iteration: \t45 / 100\n",
      "Confirmed: \t6\n",
      "Tentative: \t1\n",
      "Rejected: \t7\n",
      "Iteration: \t46 / 100\n",
      "Confirmed: \t6\n",
      "Tentative: \t1\n",
      "Rejected: \t7\n",
      "Iteration: \t47 / 100\n",
      "Confirmed: \t6\n",
      "Tentative: \t1\n",
      "Rejected: \t7\n",
      "Iteration: \t48 / 100\n",
      "Confirmed: \t6\n",
      "Tentative: \t1\n",
      "Rejected: \t7\n",
      "Iteration: \t49 / 100\n",
      "Confirmed: \t6\n",
      "Tentative: \t1\n",
      "Rejected: \t7\n",
      "Iteration: \t50 / 100\n",
      "Confirmed: \t6\n",
      "Tentative: \t1\n",
      "Rejected: \t7\n",
      "Iteration: \t51 / 100\n",
      "Confirmed: \t6\n",
      "Tentative: \t1\n",
      "Rejected: \t7\n",
      "Iteration: \t52 / 100\n",
      "Confirmed: \t6\n",
      "Tentative: \t1\n",
      "Rejected: \t7\n",
      "Iteration: \t53 / 100\n",
      "Confirmed: \t6\n",
      "Tentative: \t1\n",
      "Rejected: \t7\n",
      "Iteration: \t54 / 100\n",
      "Confirmed: \t6\n",
      "Tentative: \t1\n",
      "Rejected: \t7\n",
      "Iteration: \t55 / 100\n",
      "Confirmed: \t6\n",
      "Tentative: \t1\n",
      "Rejected: \t7\n",
      "Iteration: \t56 / 100\n",
      "Confirmed: \t6\n",
      "Tentative: \t1\n",
      "Rejected: \t7\n",
      "Iteration: \t57 / 100\n",
      "Confirmed: \t6\n",
      "Tentative: \t1\n",
      "Rejected: \t7\n",
      "Iteration: \t58 / 100\n",
      "Confirmed: \t6\n",
      "Tentative: \t1\n",
      "Rejected: \t7\n",
      "Iteration: \t59 / 100\n",
      "Confirmed: \t6\n",
      "Tentative: \t1\n",
      "Rejected: \t7\n",
      "Iteration: \t60 / 100\n",
      "Confirmed: \t6\n",
      "Tentative: \t1\n",
      "Rejected: \t7\n",
      "Iteration: \t61 / 100\n",
      "Confirmed: \t6\n",
      "Tentative: \t1\n",
      "Rejected: \t7\n",
      "Iteration: \t62 / 100\n",
      "Confirmed: \t6\n",
      "Tentative: \t1\n",
      "Rejected: \t7\n",
      "Iteration: \t63 / 100\n",
      "Confirmed: \t6\n",
      "Tentative: \t1\n",
      "Rejected: \t7\n",
      "Iteration: \t64 / 100\n",
      "Confirmed: \t6\n",
      "Tentative: \t1\n",
      "Rejected: \t7\n",
      "Iteration: \t65 / 100\n",
      "Confirmed: \t6\n",
      "Tentative: \t1\n",
      "Rejected: \t7\n",
      "Iteration: \t66 / 100\n",
      "Confirmed: \t6\n",
      "Tentative: \t1\n",
      "Rejected: \t7\n",
      "Iteration: \t67 / 100\n",
      "Confirmed: \t6\n",
      "Tentative: \t1\n",
      "Rejected: \t7\n",
      "Iteration: \t68 / 100\n",
      "Confirmed: \t6\n",
      "Tentative: \t1\n",
      "Rejected: \t7\n",
      "Iteration: \t69 / 100\n",
      "Confirmed: \t6\n",
      "Tentative: \t1\n",
      "Rejected: \t7\n",
      "Iteration: \t70 / 100\n",
      "Confirmed: \t6\n",
      "Tentative: \t1\n",
      "Rejected: \t7\n",
      "Iteration: \t71 / 100\n",
      "Confirmed: \t6\n",
      "Tentative: \t1\n",
      "Rejected: \t7\n",
      "Iteration: \t72 / 100\n",
      "Confirmed: \t6\n",
      "Tentative: \t1\n",
      "Rejected: \t7\n",
      "Iteration: \t73 / 100\n",
      "Confirmed: \t6\n",
      "Tentative: \t1\n",
      "Rejected: \t7\n",
      "Iteration: \t74 / 100\n",
      "Confirmed: \t6\n",
      "Tentative: \t1\n",
      "Rejected: \t7\n",
      "Iteration: \t75 / 100\n",
      "Confirmed: \t6\n",
      "Tentative: \t1\n",
      "Rejected: \t7\n",
      "Iteration: \t76 / 100\n",
      "Confirmed: \t6\n",
      "Tentative: \t1\n",
      "Rejected: \t7\n",
      "Iteration: \t77 / 100\n",
      "Confirmed: \t6\n",
      "Tentative: \t1\n",
      "Rejected: \t7\n",
      "Iteration: \t78 / 100\n",
      "Confirmed: \t6\n",
      "Tentative: \t1\n",
      "Rejected: \t7\n",
      "Iteration: \t79 / 100\n",
      "Confirmed: \t6\n",
      "Tentative: \t1\n",
      "Rejected: \t7\n",
      "Iteration: \t80 / 100\n",
      "Confirmed: \t6\n",
      "Tentative: \t1\n",
      "Rejected: \t7\n",
      "Iteration: \t81 / 100\n",
      "Confirmed: \t6\n",
      "Tentative: \t1\n",
      "Rejected: \t7\n",
      "Iteration: \t82 / 100\n",
      "Confirmed: \t6\n",
      "Tentative: \t1\n",
      "Rejected: \t7\n",
      "Iteration: \t83 / 100\n",
      "Confirmed: \t6\n",
      "Tentative: \t1\n",
      "Rejected: \t7\n",
      "Iteration: \t84 / 100\n",
      "Confirmed: \t6\n",
      "Tentative: \t1\n",
      "Rejected: \t7\n",
      "Iteration: \t85 / 100\n",
      "Confirmed: \t6\n",
      "Tentative: \t1\n",
      "Rejected: \t7\n",
      "Iteration: \t86 / 100\n",
      "Confirmed: \t6\n",
      "Tentative: \t1\n",
      "Rejected: \t7\n",
      "Iteration: \t87 / 100\n",
      "Confirmed: \t6\n",
      "Tentative: \t1\n",
      "Rejected: \t7\n",
      "Iteration: \t88 / 100\n",
      "Confirmed: \t6\n",
      "Tentative: \t1\n",
      "Rejected: \t7\n",
      "Iteration: \t89 / 100\n",
      "Confirmed: \t6\n",
      "Tentative: \t1\n",
      "Rejected: \t7\n",
      "Iteration: \t90 / 100\n",
      "Confirmed: \t6\n",
      "Tentative: \t0\n",
      "Rejected: \t8\n",
      "\n",
      "\n",
      "BorutaPy finished running.\n",
      "\n",
      "Iteration: \t91 / 100\n",
      "Confirmed: \t6\n",
      "Tentative: \t0\n",
      "Rejected: \t8\n"
     ]
    },
    {
     "data": {
      "text/html": [
       "<style>#sk-container-id-5 {color: black;background-color: white;}#sk-container-id-5 pre{padding: 0;}#sk-container-id-5 div.sk-toggleable {background-color: white;}#sk-container-id-5 label.sk-toggleable__label {cursor: pointer;display: block;width: 100%;margin-bottom: 0;padding: 0.3em;box-sizing: border-box;text-align: center;}#sk-container-id-5 label.sk-toggleable__label-arrow:before {content: \"▸\";float: left;margin-right: 0.25em;color: #696969;}#sk-container-id-5 label.sk-toggleable__label-arrow:hover:before {color: black;}#sk-container-id-5 div.sk-estimator:hover label.sk-toggleable__label-arrow:before {color: black;}#sk-container-id-5 div.sk-toggleable__content {max-height: 0;max-width: 0;overflow: hidden;text-align: left;background-color: #f0f8ff;}#sk-container-id-5 div.sk-toggleable__content pre {margin: 0.2em;color: black;border-radius: 0.25em;background-color: #f0f8ff;}#sk-container-id-5 input.sk-toggleable__control:checked~div.sk-toggleable__content {max-height: 200px;max-width: 100%;overflow: auto;}#sk-container-id-5 input.sk-toggleable__control:checked~label.sk-toggleable__label-arrow:before {content: \"▾\";}#sk-container-id-5 div.sk-estimator input.sk-toggleable__control:checked~label.sk-toggleable__label {background-color: #d4ebff;}#sk-container-id-5 div.sk-label input.sk-toggleable__control:checked~label.sk-toggleable__label {background-color: #d4ebff;}#sk-container-id-5 input.sk-hidden--visually {border: 0;clip: rect(1px 1px 1px 1px);clip: rect(1px, 1px, 1px, 1px);height: 1px;margin: -1px;overflow: hidden;padding: 0;position: absolute;width: 1px;}#sk-container-id-5 div.sk-estimator {font-family: monospace;background-color: #f0f8ff;border: 1px dotted black;border-radius: 0.25em;box-sizing: border-box;margin-bottom: 0.5em;}#sk-container-id-5 div.sk-estimator:hover {background-color: #d4ebff;}#sk-container-id-5 div.sk-parallel-item::after {content: \"\";width: 100%;border-bottom: 1px solid gray;flex-grow: 1;}#sk-container-id-5 div.sk-label:hover label.sk-toggleable__label {background-color: #d4ebff;}#sk-container-id-5 div.sk-serial::before {content: \"\";position: absolute;border-left: 1px solid gray;box-sizing: border-box;top: 0;bottom: 0;left: 50%;z-index: 0;}#sk-container-id-5 div.sk-serial {display: flex;flex-direction: column;align-items: center;background-color: white;padding-right: 0.2em;padding-left: 0.2em;position: relative;}#sk-container-id-5 div.sk-item {position: relative;z-index: 1;}#sk-container-id-5 div.sk-parallel {display: flex;align-items: stretch;justify-content: center;background-color: white;position: relative;}#sk-container-id-5 div.sk-item::before, #sk-container-id-5 div.sk-parallel-item::before {content: \"\";position: absolute;border-left: 1px solid gray;box-sizing: border-box;top: 0;bottom: 0;left: 50%;z-index: -1;}#sk-container-id-5 div.sk-parallel-item {display: flex;flex-direction: column;z-index: 1;position: relative;background-color: white;}#sk-container-id-5 div.sk-parallel-item:first-child::after {align-self: flex-end;width: 50%;}#sk-container-id-5 div.sk-parallel-item:last-child::after {align-self: flex-start;width: 50%;}#sk-container-id-5 div.sk-parallel-item:only-child::after {width: 0;}#sk-container-id-5 div.sk-dashed-wrapped {border: 1px dashed gray;margin: 0 0.4em 0.5em 0.4em;box-sizing: border-box;padding-bottom: 0.4em;background-color: white;}#sk-container-id-5 div.sk-label label {font-family: monospace;font-weight: bold;display: inline-block;line-height: 1.2em;}#sk-container-id-5 div.sk-label-container {text-align: center;}#sk-container-id-5 div.sk-container {/* jupyter's `normalize.less` sets `[hidden] { display: none; }` but bootstrap.min.css set `[hidden] { display: none !important; }` so we also need the `!important` here to be able to override the default hidden behavior on the sphinx rendered scikit-learn.org. See: https://github.com/scikit-learn/scikit-learn/issues/21755 */display: inline-block !important;position: relative;}#sk-container-id-5 div.sk-text-repr-fallback {display: none;}</style><div id=\"sk-container-id-5\" class=\"sk-top-container\"><div class=\"sk-text-repr-fallback\"><pre>BorutaPy(estimator=RandomForestRegressor(max_depth=5, n_estimators=74,\n",
       "                                         n_jobs=-1,\n",
       "                                         random_state=RandomState(MT19937) at 0x7F91E8425640),\n",
       "         n_estimators=&#x27;auto&#x27;,\n",
       "         random_state=RandomState(MT19937) at 0x7F91E8425640, verbose=2)</pre><b>In a Jupyter environment, please rerun this cell to show the HTML representation or trust the notebook. <br />On GitHub, the HTML representation is unable to render, please try loading this page with nbviewer.org.</b></div><div class=\"sk-container\" hidden><div class=\"sk-item sk-dashed-wrapped\"><div class=\"sk-label-container\"><div class=\"sk-label sk-toggleable\"><input class=\"sk-toggleable__control sk-hidden--visually\" id=\"sk-estimator-id-5\" type=\"checkbox\" ><label for=\"sk-estimator-id-5\" class=\"sk-toggleable__label sk-toggleable__label-arrow\">BorutaPy</label><div class=\"sk-toggleable__content\"><pre>BorutaPy(estimator=RandomForestRegressor(max_depth=5, n_estimators=74,\n",
       "                                         n_jobs=-1,\n",
       "                                         random_state=RandomState(MT19937) at 0x7F91E8425640),\n",
       "         n_estimators=&#x27;auto&#x27;,\n",
       "         random_state=RandomState(MT19937) at 0x7F91E8425640, verbose=2)</pre></div></div></div><div class=\"sk-parallel\"><div class=\"sk-parallel-item\"><div class=\"sk-item\"><div class=\"sk-label-container\"><div class=\"sk-label sk-toggleable\"><input class=\"sk-toggleable__control sk-hidden--visually\" id=\"sk-estimator-id-6\" type=\"checkbox\" ><label for=\"sk-estimator-id-6\" class=\"sk-toggleable__label sk-toggleable__label-arrow\">estimator: RandomForestRegressor</label><div class=\"sk-toggleable__content\"><pre>RandomForestRegressor(max_depth=5, n_estimators=74, n_jobs=-1,\n",
       "                      random_state=RandomState(MT19937) at 0x7F91E8425640)</pre></div></div></div><div class=\"sk-serial\"><div class=\"sk-item\"><div class=\"sk-estimator sk-toggleable\"><input class=\"sk-toggleable__control sk-hidden--visually\" id=\"sk-estimator-id-7\" type=\"checkbox\" ><label for=\"sk-estimator-id-7\" class=\"sk-toggleable__label sk-toggleable__label-arrow\">RandomForestRegressor</label><div class=\"sk-toggleable__content\"><pre>RandomForestRegressor(max_depth=5, n_estimators=74, n_jobs=-1,\n",
       "                      random_state=RandomState(MT19937) at 0x7F91E8425640)</pre></div></div></div></div></div></div></div></div></div></div>"
      ],
      "text/plain": [
       "BorutaPy(estimator=RandomForestRegressor(max_depth=5, n_estimators=74,\n",
       "                                         n_jobs=-1,\n",
       "                                         random_state=RandomState(MT19937) at 0x7F91E8425640),\n",
       "         n_estimators='auto',\n",
       "         random_state=RandomState(MT19937) at 0x7F91E8425640, verbose=2)"
      ]
     },
     "execution_count": 58,
     "metadata": {},
     "output_type": "execute_result"
    }
   ],
   "source": [
    "feat_selector.fit(X_train.values, y_train.values)"
   ]
  },
  {
   "cell_type": "markdown",
   "metadata": {},
   "source": [
    "We can extract the features that were chosen and rejected from our feature selector object. "
   ]
  },
  {
   "cell_type": "code",
   "execution_count": 65,
   "metadata": {},
   "outputs": [
    {
     "data": {
      "text/html": [
       "<div>\n",
       "<style scoped>\n",
       "    .dataframe tbody tr th:only-of-type {\n",
       "        vertical-align: middle;\n",
       "    }\n",
       "\n",
       "    .dataframe tbody tr th {\n",
       "        vertical-align: top;\n",
       "    }\n",
       "\n",
       "    .dataframe thead th {\n",
       "        text-align: right;\n",
       "    }\n",
       "</style>\n",
       "<table border=\"1\" class=\"dataframe\">\n",
       "  <thead>\n",
       "    <tr style=\"text-align: right;\">\n",
       "      <th></th>\n",
       "      <th>NATR_14</th>\n",
       "      <th>return_1</th>\n",
       "      <th>return_3</th>\n",
       "      <th>return_5</th>\n",
       "      <th>MACD_normalized</th>\n",
       "      <th>MACD_signal_normalized</th>\n",
       "    </tr>\n",
       "    <tr>\n",
       "      <th>Date</th>\n",
       "      <th></th>\n",
       "      <th></th>\n",
       "      <th></th>\n",
       "      <th></th>\n",
       "      <th></th>\n",
       "      <th></th>\n",
       "    </tr>\n",
       "  </thead>\n",
       "  <tbody>\n",
       "    <tr>\n",
       "      <th>1970-02-18</th>\n",
       "      <td>2.010058</td>\n",
       "      <td>0.012389</td>\n",
       "      <td>0.010400</td>\n",
       "      <td>0.005751</td>\n",
       "      <td>-0.016450</td>\n",
       "      <td>0.006210</td>\n",
       "    </tr>\n",
       "    <tr>\n",
       "      <th>1970-02-19</th>\n",
       "      <td>2.002924</td>\n",
       "      <td>0.003660</td>\n",
       "      <td>0.014918</td>\n",
       "      <td>0.011876</td>\n",
       "      <td>-0.014305</td>\n",
       "      <td>0.006618</td>\n",
       "    </tr>\n",
       "  </tbody>\n",
       "</table>\n",
       "</div>"
      ],
      "text/plain": [
       "             NATR_14  return_1  return_3  return_5  MACD_normalized  \\\n",
       "Date                                                                  \n",
       "1970-02-18  2.010058  0.012389  0.010400  0.005751        -0.016450   \n",
       "1970-02-19  2.002924  0.003660  0.014918  0.011876        -0.014305   \n",
       "\n",
       "            MACD_signal_normalized  \n",
       "Date                                \n",
       "1970-02-18                0.006210  \n",
       "1970-02-19                0.006618  "
      ]
     },
     "execution_count": 65,
     "metadata": {},
     "output_type": "execute_result"
    }
   ],
   "source": [
    "X.loc[:, feat_selector.support_].head(2)"
   ]
  },
  {
   "cell_type": "markdown",
   "metadata": {},
   "source": [
    "The features that were chosen from the Boruta algorithm as \"relevant\" were: \n",
    "* NATR 14 -> Normalized Average True Range \n",
    "* Return on 1, 3, and 5 day time frame \n",
    "* MACD level normalized\n",
    "* MACD signal normalized"
   ]
  },
  {
   "cell_type": "markdown",
   "metadata": {},
   "source": [
    "### Conclusions \n",
    "\n",
    "In this notebook, we started putting the data together and thinking about how we could go ahead and choose the features which go into our model. \n",
    "* In the feature importances on a random regression tree, we saw that the returns gave a very high level of importance \n",
    "    * This makes sense given that we know returns tend to have some sort of autocorrelation to them \n",
    "* In the mutual information regression, we did not get too much confirmation on what we saw in the feature importance part\n",
    "* We utilized the boruta algorithm to come up with the \"all relevant\" features out the of the features that we provided into the model. \n",
    "    * Out of this, we got three technical features that we should test out (NATR_14, MACD normalized and MACD signal normalized)\n",
    "\n",
    "\n",
    "I think that for our model going forward, we will say that we will use the features left over from the Boruta algorithm for now. "
   ]
  },
  {
   "cell_type": "markdown",
   "metadata": {},
   "source": []
  }
 ],
 "metadata": {
  "kernelspec": {
   "display_name": "research_env",
   "language": "python",
   "name": "python3"
  },
  "language_info": {
   "codemirror_mode": {
    "name": "ipython",
    "version": 3
   },
   "file_extension": ".py",
   "mimetype": "text/x-python",
   "name": "python",
   "nbconvert_exporter": "python",
   "pygments_lexer": "ipython3",
   "version": "3.10.6"
  },
  "orig_nbformat": 4
 },
 "nbformat": 4,
 "nbformat_minor": 2
}
