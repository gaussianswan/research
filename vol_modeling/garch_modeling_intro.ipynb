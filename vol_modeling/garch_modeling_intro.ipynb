{
 "cells": [
  {
   "cell_type": "markdown",
   "metadata": {},
   "source": [
    "### Introduction to GARCH modeling\n",
    "\n",
    "In this notebook, we are going to put some code together for doing simple garch modeling. There is this package called `arch` which is very useful and powerful. They have put together a ton of functionality for modeling volatility in there and we will go through all the ways that we can create something interesting. "
   ]
  },
  {
   "cell_type": "code",
   "execution_count": null,
   "metadata": {},
   "outputs": [],
   "source": [
    "import yfinance as yf\n",
    "\n",
    "from arch import arch_model "
   ]
  }
 ],
 "metadata": {
  "kernelspec": {
   "display_name": "research_env",
   "language": "python",
   "name": "python3"
  },
  "language_info": {
   "name": "python",
   "version": "3.9.17"
  },
  "orig_nbformat": 4
 },
 "nbformat": 4,
 "nbformat_minor": 2
}
