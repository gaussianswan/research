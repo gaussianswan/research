{
 "cells": [
  {
   "cell_type": "code",
   "execution_count": 79,
   "metadata": {},
   "outputs": [],
   "source": [
    "import pandas as pd\n",
    "import numpy as np \n",
    "import datetime\n",
    "import os\n",
    "import matplotlib.pyplot as plt\n",
    "import seaborn as sns\n",
    "import math\n",
    "\n",
    "from alpaca.data.timeframe import TimeFrame, TimeFrameUnit\n",
    "from alpaca.data import CryptoHistoricalDataClient, CryptoBarsRequest\n",
    "\n",
    "from scipy.stats import norm, t, laplace\n"
   ]
  },
  {
   "cell_type": "code",
   "execution_count": 5,
   "metadata": {},
   "outputs": [],
   "source": [
    "data_request = CryptoBarsRequest(\n",
    "    symbol_or_symbols='BTC/USD', \n",
    "    start = datetime.datetime(2021, 1, 1), \n",
    "    end = datetime.datetime.now(), \n",
    "    timeframe=TimeFrame(1, TimeFrameUnit.Hour)\n",
    ")\n",
    "\n",
    "client = CryptoHistoricalDataClient()\n",
    "data = client.get_crypto_bars(request_params=data_request)"
   ]
  },
  {
   "cell_type": "code",
   "execution_count": 10,
   "metadata": {},
   "outputs": [],
   "source": [
    "historical_bars_df = data.df.reset_index()\n",
    "historical_bars_df['timestamp'] = pd.to_datetime(historical_bars_df['timestamp'])\n",
    "historical_bars_df.drop(['symbol'], axis = 1, inplace=True)"
   ]
  },
  {
   "cell_type": "code",
   "execution_count": 12,
   "metadata": {},
   "outputs": [],
   "source": [
    "# Saving to parquet file\n",
    "historical_bars_df.to_parquet(\"btc_usd_1h.parquet\")"
   ]
  },
  {
   "cell_type": "code",
   "execution_count": 15,
   "metadata": {},
   "outputs": [
    {
     "data": {
      "text/html": [
       "<div>\n",
       "<style scoped>\n",
       "    .dataframe tbody tr th:only-of-type {\n",
       "        vertical-align: middle;\n",
       "    }\n",
       "\n",
       "    .dataframe tbody tr th {\n",
       "        vertical-align: top;\n",
       "    }\n",
       "\n",
       "    .dataframe thead th {\n",
       "        text-align: right;\n",
       "    }\n",
       "</style>\n",
       "<table border=\"1\" class=\"dataframe\">\n",
       "  <thead>\n",
       "    <tr style=\"text-align: right;\">\n",
       "      <th></th>\n",
       "      <th>timestamp</th>\n",
       "      <th>open</th>\n",
       "      <th>high</th>\n",
       "      <th>low</th>\n",
       "      <th>close</th>\n",
       "      <th>volume</th>\n",
       "      <th>trade_count</th>\n",
       "      <th>vwap</th>\n",
       "    </tr>\n",
       "  </thead>\n",
       "  <tbody>\n",
       "    <tr>\n",
       "      <th>0</th>\n",
       "      <td>2021-01-01 06:00:00+00:00</td>\n",
       "      <td>29255.710000</td>\n",
       "      <td>29338.250000</td>\n",
       "      <td>29153.550000</td>\n",
       "      <td>29234.150000</td>\n",
       "      <td>42.244289</td>\n",
       "      <td>1243.0</td>\n",
       "      <td>29237.240312</td>\n",
       "    </tr>\n",
       "    <tr>\n",
       "      <th>1</th>\n",
       "      <td>2021-01-01 07:00:00+00:00</td>\n",
       "      <td>29235.610000</td>\n",
       "      <td>29236.950000</td>\n",
       "      <td>28905.000000</td>\n",
       "      <td>29162.500000</td>\n",
       "      <td>34.506038</td>\n",
       "      <td>1070.0</td>\n",
       "      <td>29078.423185</td>\n",
       "    </tr>\n",
       "    <tr>\n",
       "      <th>2</th>\n",
       "      <td>2021-01-01 08:00:00+00:00</td>\n",
       "      <td>29162.500000</td>\n",
       "      <td>29248.520000</td>\n",
       "      <td>28948.860000</td>\n",
       "      <td>29076.770000</td>\n",
       "      <td>27.596804</td>\n",
       "      <td>1110.0</td>\n",
       "      <td>29091.465155</td>\n",
       "    </tr>\n",
       "    <tr>\n",
       "      <th>3</th>\n",
       "      <td>2021-01-01 09:00:00+00:00</td>\n",
       "      <td>29075.310000</td>\n",
       "      <td>29372.320000</td>\n",
       "      <td>29058.050000</td>\n",
       "      <td>29284.920000</td>\n",
       "      <td>20.694200</td>\n",
       "      <td>880.0</td>\n",
       "      <td>29248.730924</td>\n",
       "    </tr>\n",
       "    <tr>\n",
       "      <th>4</th>\n",
       "      <td>2021-01-01 10:00:00+00:00</td>\n",
       "      <td>29291.540000</td>\n",
       "      <td>29400.000000</td>\n",
       "      <td>29232.160000</td>\n",
       "      <td>29286.630000</td>\n",
       "      <td>16.617646</td>\n",
       "      <td>742.0</td>\n",
       "      <td>29338.609132</td>\n",
       "    </tr>\n",
       "    <tr>\n",
       "      <th>...</th>\n",
       "      <td>...</td>\n",
       "      <td>...</td>\n",
       "      <td>...</td>\n",
       "      <td>...</td>\n",
       "      <td>...</td>\n",
       "      <td>...</td>\n",
       "      <td>...</td>\n",
       "      <td>...</td>\n",
       "    </tr>\n",
       "    <tr>\n",
       "      <th>21949</th>\n",
       "      <td>2023-07-06 14:00:00+00:00</td>\n",
       "      <td>30433.970000</td>\n",
       "      <td>30433.970000</td>\n",
       "      <td>29687.300000</td>\n",
       "      <td>30121.800000</td>\n",
       "      <td>1.201926</td>\n",
       "      <td>27.0</td>\n",
       "      <td>29816.461087</td>\n",
       "    </tr>\n",
       "    <tr>\n",
       "      <th>21950</th>\n",
       "      <td>2023-07-06 15:00:00+00:00</td>\n",
       "      <td>30380.000000</td>\n",
       "      <td>30462.242050</td>\n",
       "      <td>30344.892600</td>\n",
       "      <td>30403.298294</td>\n",
       "      <td>0.450909</td>\n",
       "      <td>10.0</td>\n",
       "      <td>30418.564334</td>\n",
       "    </tr>\n",
       "    <tr>\n",
       "      <th>21951</th>\n",
       "      <td>2023-07-06 16:00:00+00:00</td>\n",
       "      <td>30390.160020</td>\n",
       "      <td>30464.462979</td>\n",
       "      <td>30290.155080</td>\n",
       "      <td>30309.304655</td>\n",
       "      <td>0.048879</td>\n",
       "      <td>12.0</td>\n",
       "      <td>30319.587032</td>\n",
       "    </tr>\n",
       "    <tr>\n",
       "      <th>21952</th>\n",
       "      <td>2023-07-06 17:00:00+00:00</td>\n",
       "      <td>30270.168097</td>\n",
       "      <td>30334.565525</td>\n",
       "      <td>30270.168097</td>\n",
       "      <td>30284.520260</td>\n",
       "      <td>0.016705</td>\n",
       "      <td>6.0</td>\n",
       "      <td>30313.803679</td>\n",
       "    </tr>\n",
       "    <tr>\n",
       "      <th>21953</th>\n",
       "      <td>2023-07-06 18:00:00+00:00</td>\n",
       "      <td>30273.743630</td>\n",
       "      <td>30312.658060</td>\n",
       "      <td>30210.640000</td>\n",
       "      <td>30286.397000</td>\n",
       "      <td>0.032434</td>\n",
       "      <td>8.0</td>\n",
       "      <td>30259.665223</td>\n",
       "    </tr>\n",
       "  </tbody>\n",
       "</table>\n",
       "<p>21954 rows × 8 columns</p>\n",
       "</div>"
      ],
      "text/plain": [
       "                      timestamp          open  ...  trade_count          vwap\n",
       "0     2021-01-01 06:00:00+00:00  29255.710000  ...       1243.0  29237.240312\n",
       "1     2021-01-01 07:00:00+00:00  29235.610000  ...       1070.0  29078.423185\n",
       "2     2021-01-01 08:00:00+00:00  29162.500000  ...       1110.0  29091.465155\n",
       "3     2021-01-01 09:00:00+00:00  29075.310000  ...        880.0  29248.730924\n",
       "4     2021-01-01 10:00:00+00:00  29291.540000  ...        742.0  29338.609132\n",
       "...                         ...           ...  ...          ...           ...\n",
       "21949 2023-07-06 14:00:00+00:00  30433.970000  ...         27.0  29816.461087\n",
       "21950 2023-07-06 15:00:00+00:00  30380.000000  ...         10.0  30418.564334\n",
       "21951 2023-07-06 16:00:00+00:00  30390.160020  ...         12.0  30319.587032\n",
       "21952 2023-07-06 17:00:00+00:00  30270.168097  ...          6.0  30313.803679\n",
       "21953 2023-07-06 18:00:00+00:00  30273.743630  ...          8.0  30259.665223\n",
       "\n",
       "[21954 rows x 8 columns]"
      ]
     },
     "execution_count": 15,
     "metadata": {},
     "output_type": "execute_result"
    }
   ],
   "source": [
    "historical_bars_df"
   ]
  },
  {
   "attachments": {},
   "cell_type": "markdown",
   "metadata": {},
   "source": [
    "In this dataset, we have data taken at equal 1 hour intervals. The columns: \n",
    "* Open -> The price at the beginning of the period \n",
    "* High -> The highest price during the period\n",
    "* Low -> The lowest price during the period\n",
    "* Close -> The price at the end of the period\n",
    "* Volume -> The amount of BTC traded over that interval \n",
    "* Trade count -> The amount of trades that were done over that period \n",
    "* VWAP -> The volume weighted average price which represents the price at which most bitcoins were transacted at over this time"
   ]
  },
  {
   "cell_type": "code",
   "execution_count": 23,
   "metadata": {},
   "outputs": [
    {
     "data": {
      "text/html": [
       "<div>\n",
       "<style scoped>\n",
       "    .dataframe tbody tr th:only-of-type {\n",
       "        vertical-align: middle;\n",
       "    }\n",
       "\n",
       "    .dataframe tbody tr th {\n",
       "        vertical-align: top;\n",
       "    }\n",
       "\n",
       "    .dataframe thead th {\n",
       "        text-align: right;\n",
       "    }\n",
       "</style>\n",
       "<table border=\"1\" class=\"dataframe\">\n",
       "  <thead>\n",
       "    <tr style=\"text-align: right;\">\n",
       "      <th></th>\n",
       "      <th>open</th>\n",
       "      <th>high</th>\n",
       "      <th>low</th>\n",
       "      <th>close</th>\n",
       "      <th>volume</th>\n",
       "      <th>trade_count</th>\n",
       "      <th>vwap</th>\n",
       "    </tr>\n",
       "  </thead>\n",
       "  <tbody>\n",
       "    <tr>\n",
       "      <th>count</th>\n",
       "      <td>21954.00</td>\n",
       "      <td>21954.00</td>\n",
       "      <td>21954.00</td>\n",
       "      <td>21954.00</td>\n",
       "      <td>21954.00</td>\n",
       "      <td>21954.00</td>\n",
       "      <td>21954.00</td>\n",
       "    </tr>\n",
       "    <tr>\n",
       "      <th>mean</th>\n",
       "      <td>35330.19</td>\n",
       "      <td>35515.57</td>\n",
       "      <td>35130.61</td>\n",
       "      <td>35329.77</td>\n",
       "      <td>151.18</td>\n",
       "      <td>3415.63</td>\n",
       "      <td>35324.75</td>\n",
       "    </tr>\n",
       "    <tr>\n",
       "      <th>std</th>\n",
       "      <td>13415.76</td>\n",
       "      <td>13496.62</td>\n",
       "      <td>13329.05</td>\n",
       "      <td>13415.38</td>\n",
       "      <td>227.64</td>\n",
       "      <td>3819.80</td>\n",
       "      <td>13411.04</td>\n",
       "    </tr>\n",
       "    <tr>\n",
       "      <th>min</th>\n",
       "      <td>15627.65</td>\n",
       "      <td>15750.44</td>\n",
       "      <td>8200.00</td>\n",
       "      <td>15631.84</td>\n",
       "      <td>0.00</td>\n",
       "      <td>1.00</td>\n",
       "      <td>15659.03</td>\n",
       "    </tr>\n",
       "    <tr>\n",
       "      <th>25%</th>\n",
       "      <td>23060.94</td>\n",
       "      <td>23146.61</td>\n",
       "      <td>22964.43</td>\n",
       "      <td>23063.00</td>\n",
       "      <td>30.53</td>\n",
       "      <td>1399.25</td>\n",
       "      <td>23060.52</td>\n",
       "    </tr>\n",
       "    <tr>\n",
       "      <th>50%</th>\n",
       "      <td>33615.62</td>\n",
       "      <td>33840.00</td>\n",
       "      <td>33357.74</td>\n",
       "      <td>33613.44</td>\n",
       "      <td>68.03</td>\n",
       "      <td>2316.00</td>\n",
       "      <td>33607.83</td>\n",
       "    </tr>\n",
       "    <tr>\n",
       "      <th>75%</th>\n",
       "      <td>46067.15</td>\n",
       "      <td>46354.80</td>\n",
       "      <td>45777.55</td>\n",
       "      <td>46074.01</td>\n",
       "      <td>180.48</td>\n",
       "      <td>4051.75</td>\n",
       "      <td>46083.23</td>\n",
       "    </tr>\n",
       "    <tr>\n",
       "      <th>max</th>\n",
       "      <td>68633.87</td>\n",
       "      <td>69025.05</td>\n",
       "      <td>68463.36</td>\n",
       "      <td>68613.32</td>\n",
       "      <td>5213.69</td>\n",
       "      <td>110487.00</td>\n",
       "      <td>68602.53</td>\n",
       "    </tr>\n",
       "  </tbody>\n",
       "</table>\n",
       "</div>"
      ],
      "text/plain": [
       "           open      high       low     close    volume  trade_count      vwap\n",
       "count  21954.00  21954.00  21954.00  21954.00  21954.00     21954.00  21954.00\n",
       "mean   35330.19  35515.57  35130.61  35329.77    151.18      3415.63  35324.75\n",
       "std    13415.76  13496.62  13329.05  13415.38    227.64      3819.80  13411.04\n",
       "min    15627.65  15750.44   8200.00  15631.84      0.00         1.00  15659.03\n",
       "25%    23060.94  23146.61  22964.43  23063.00     30.53      1399.25  23060.52\n",
       "50%    33615.62  33840.00  33357.74  33613.44     68.03      2316.00  33607.83\n",
       "75%    46067.15  46354.80  45777.55  46074.01    180.48      4051.75  46083.23\n",
       "max    68633.87  69025.05  68463.36  68613.32   5213.69    110487.00  68602.53"
      ]
     },
     "execution_count": 23,
     "metadata": {},
     "output_type": "execute_result"
    }
   ],
   "source": [
    "historical_bars_df.describe().round(2)"
   ]
  },
  {
   "cell_type": "code",
   "execution_count": 20,
   "metadata": {},
   "outputs": [
    {
     "data": {
      "text/plain": [
       "timestamp      0\n",
       "open           0\n",
       "high           0\n",
       "low            0\n",
       "close          0\n",
       "volume         0\n",
       "trade_count    0\n",
       "vwap           0\n",
       "dtype: int64"
      ]
     },
     "execution_count": 20,
     "metadata": {},
     "output_type": "execute_result"
    }
   ],
   "source": [
    "historical_bars_df.isna().sum()"
   ]
  },
  {
   "cell_type": "code",
   "execution_count": 21,
   "metadata": {},
   "outputs": [
    {
     "data": {
      "text/plain": [
       "timestamp      0\n",
       "open           0\n",
       "high           0\n",
       "low            0\n",
       "close          0\n",
       "volume         0\n",
       "trade_count    0\n",
       "vwap           0\n",
       "dtype: int64"
      ]
     },
     "execution_count": 21,
     "metadata": {},
     "output_type": "execute_result"
    }
   ],
   "source": [
    "historical_bars_df.isnull().sum()"
   ]
  },
  {
   "cell_type": "code",
   "execution_count": 30,
   "metadata": {},
   "outputs": [],
   "source": [
    "problem_bar = historical_bars_df[historical_bars_df['low'] == historical_bars_df['low'].min()]"
   ]
  },
  {
   "attachments": {},
   "cell_type": "markdown",
   "metadata": {},
   "source": [
    "We can see that there are no NA values and no null values. One odd thing is that the low price on 10/21/2021 at 11 am UTC is MUCH lower than the other values around it. We can impute that. I think that we can make it the minimum of the open and close. "
   ]
  },
  {
   "cell_type": "code",
   "execution_count": 42,
   "metadata": {},
   "outputs": [],
   "source": [
    "imputed_value = min(problem_bar['close'].values[0], problem_bar['open'].values[0])\n",
    "historical_bars_df.iloc[7027, 3] = imputed_value"
   ]
  },
  {
   "cell_type": "code",
   "execution_count": 49,
   "metadata": {},
   "outputs": [
    {
     "data": {
      "image/png": "[encoded data removed]",
      "text/plain": [
       "<Figure size 640x480 with 1 Axes>"
      ]
     },
     "metadata": {},
     "output_type": "display_data"
    }
   ],
   "source": [
    "historical_bars_df['close'].plot()\n",
    "plt.title(\"Historical BTC/USD 1 hour price\")\n",
    "plt.xlabel(\"Time index\")\n",
    "plt.ylabel(\"Price of BTC in USD\")\n",
    "plt.show()"
   ]
  },
  {
   "attachments": {},
   "cell_type": "markdown",
   "metadata": {},
   "source": [
    "What do the historical returns look like? "
   ]
  },
  {
   "cell_type": "code",
   "execution_count": 61,
   "metadata": {},
   "outputs": [
    {
     "data": {
      "text/plain": [
       "count    21953.000000\n",
       "mean         0.000031\n",
       "std          0.007633\n",
       "min         -0.094516\n",
       "25%         -0.002903\n",
       "50%          0.000034\n",
       "75%          0.002977\n",
       "max          0.122647\n",
       "Name: close, dtype: float64"
      ]
     },
     "execution_count": 61,
     "metadata": {},
     "output_type": "execute_result"
    }
   ],
   "source": [
    "returns = historical_bars_df['close'].pct_change().dropna()\n",
    "returns.describe()"
   ]
  },
  {
   "cell_type": "code",
   "execution_count": 62,
   "metadata": {},
   "outputs": [
    {
     "data": {
      "image/png": "[encoded data removed]",
      "text/plain": [
       "<Figure size 640x480 with 1 Axes>"
      ]
     },
     "metadata": {},
     "output_type": "display_data"
    }
   ],
   "source": [
    "returns.plot(kind = 'hist', bins = 50, density = True)\n",
    "plt.title(\"Histogram of BTC/USD Hourly Close to Close returns\")\n",
    "plt.show()"
   ]
  },
  {
   "cell_type": "code",
   "execution_count": 63,
   "metadata": {},
   "outputs": [
    {
     "data": {
      "text/plain": [
       "3.074755344201531e-05"
      ]
     },
     "execution_count": 63,
     "metadata": {},
     "output_type": "execute_result"
    }
   ],
   "source": [
    "returns.mean()"
   ]
  },
  {
   "cell_type": "code",
   "execution_count": 64,
   "metadata": {},
   "outputs": [
    {
     "data": {
      "text/plain": [
       "0.007632675741873547"
      ]
     },
     "execution_count": 64,
     "metadata": {},
     "output_type": "execute_result"
    }
   ],
   "source": [
    "\n",
    "returns.std()"
   ]
  },
  {
   "cell_type": "code",
   "execution_count": 65,
   "metadata": {},
   "outputs": [
    {
     "data": {
      "text/plain": [
       "(3.074755344201531e-05, 0.007632501898602366)"
      ]
     },
     "execution_count": 65,
     "metadata": {},
     "output_type": "execute_result"
    }
   ],
   "source": [
    "norm.fit(returns)"
   ]
  },
  {
   "cell_type": "code",
   "execution_count": 66,
   "metadata": {},
   "outputs": [
    {
     "data": {
      "text/plain": [
       "(1.97895147787768, 1.5098934693031385e-05, 0.0036523623703493555)"
      ]
     },
     "execution_count": 66,
     "metadata": {},
     "output_type": "execute_result"
    }
   ],
   "source": [
    "t.fit(returns)"
   ]
  },
  {
   "cell_type": "code",
   "execution_count": 67,
   "metadata": {},
   "outputs": [
    {
     "data": {
      "text/plain": [
       "(3.3990288080154585e-05, 0.004802681714199978)"
      ]
     },
     "execution_count": 67,
     "metadata": {},
     "output_type": "execute_result"
    }
   ],
   "source": [
    "laplace.fit(returns)"
   ]
  },
  {
   "cell_type": "code",
   "execution_count": 73,
   "metadata": {},
   "outputs": [],
   "source": [
    "from dataclasses import dataclass\n",
    "\n",
    "@dataclass\n",
    "class NormFit:\n",
    "\n",
    "    loc: float \n",
    "    scale: float\n",
    "\n",
    "    @classmethod \n",
    "    def from_tuple(cls, params): \n",
    "        return cls(*params)\n",
    "    \n",
    "\n",
    "@dataclass \n",
    "class TFit: \n",
    "\n",
    "    df: float\n",
    "    loc: float\n",
    "    scale: float\n",
    "\n",
    "    @classmethod\n",
    "    def from_tuple(cls, params): \n",
    "\n",
    "        return cls(*params)\n",
    "    \n",
    "    def variance(self) -> float: \n",
    "\n",
    "        if self.df < 2: \n",
    "            return math.inf\n",
    "        \n",
    "        else: \n",
    "            return self.scale ** 2 * ((self.df)/(self.df - 2))\n",
    "    \n",
    "\n",
    "\n",
    " \n",
    "     \n",
    "\n"
   ]
  },
  {
   "cell_type": "code",
   "execution_count": 74,
   "metadata": {},
   "outputs": [],
   "source": [
    "normal_fit = NormFit.from_tuple(norm.fit(returns))\n",
    "t_fit = TFit.from_tuple(t.fit(returns))"
   ]
  },
  {
   "cell_type": "code",
   "execution_count": 76,
   "metadata": {},
   "outputs": [
    {
     "data": {
      "text/plain": [
       "TFit(df=1.97895147787768, loc=1.5098934693031385e-05, scale=0.0036523623703493555)"
      ]
     },
     "execution_count": 76,
     "metadata": {},
     "output_type": "execute_result"
    }
   ],
   "source": [
    "t_fit"
   ]
  },
  {
   "cell_type": "code",
   "execution_count": 78,
   "metadata": {},
   "outputs": [
    {
     "data": {
      "text/plain": [
       "NormFit(loc=3.074755344201531e-05, scale=0.007632501898602366)"
      ]
     },
     "execution_count": 78,
     "metadata": {},
     "output_type": "execute_result"
    }
   ],
   "source": [
    "normal_fit"
   ]
  },
  {
   "cell_type": "code",
   "execution_count": null,
   "metadata": {},
   "outputs": [],
   "source": []
  }
 ],
 "metadata": {
  "kernelspec": {
   "display_name": "research_env",
   "language": "python",
   "name": "python3"
  },
  "language_info": {
   "codemirror_mode": {
    "name": "ipython",
    "version": 3
   },
   "file_extension": ".py",
   "mimetype": "text/x-python",
   "name": "python",
   "nbconvert_exporter": "python",
   "pygments_lexer": "ipython3",
   "version": "3.10.6"
  },
  "orig_nbformat": 4
 },
 "nbformat": 4,
 "nbformat_minor": 2
}
